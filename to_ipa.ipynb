{
 "cells": [
  {
   "cell_type": "code",
   "execution_count": 1,
   "metadata": {},
   "outputs": [],
   "source": [
    "import pandas as pd"
   ]
  },
  {
   "cell_type": "code",
   "execution_count": 2,
   "metadata": {},
   "outputs": [
    {
     "name": "stderr",
     "output_type": "stream",
     "text": [
      "2023-03-09 10:23:51.826509: I tensorflow/core/platform/cpu_feature_guard.cc:193] This TensorFlow binary is optimized with oneAPI Deep Neural Network Library (oneDNN) to use the following CPU instructions in performance-critical operations:  SSE4.1 SSE4.2\n",
      "To enable them in other operations, rebuild TensorFlow with the appropriate compiler flags.\n"
     ]
    }
   ],
   "source": [
    "import string\n",
    "import re\n",
    "import numpy as np\n",
    "import pandas as pd\n",
    "from tensorflow import keras\n",
    "%matplotlib inline\n",
    "pd.set_option('display.max_colwidth', 200)\n",
    "import matplotlib.pyplot as plt"
   ]
  },
  {
   "cell_type": "code",
   "execution_count": 3,
   "metadata": {},
   "outputs": [],
   "source": [
    "from sklearn.model_selection import train_test_split"
   ]
  },
  {
   "cell_type": "code",
   "execution_count": 4,
   "metadata": {},
   "outputs": [],
   "source": [
    "import_df = pd.read_csv(\"ipatest.csv\")\n",
    "import_df = import_df.dropna()"
   ]
  },
  {
   "cell_type": "code",
   "execution_count": 5,
   "metadata": {},
   "outputs": [],
   "source": [
    "ipa_array = np.array(import_df)"
   ]
  },
  {
   "cell_type": "code",
   "execution_count": 6,
   "metadata": {},
   "outputs": [
    {
     "data": {
      "text/plain": [
       "array([['hice', \"'i-se\"],\n",
       "       ['combinación', \"kom-bi-na-'si̯on\"],\n",
       "       ['inicio', \"i-'ni-si̯o\"],\n",
       "       ['educación', \"e-ðu-ka-'si̯on\"],\n",
       "       ['hasta', \"'as-ta\"],\n",
       "       ['ojo', \"'o-ho\"],\n",
       "       ['casi', \"'ka-si\"],\n",
       "       ['usar', \"u-'saɾ\"],\n",
       "       ['funcionar', \"fun-si̯o-'naɾ\"],\n",
       "       ['cantar', \"kan-'taɾ\"],\n",
       "       ['ayuda', \"a-'ju-ða\"],\n",
       "       ['hombre', \"'om-bɾe\"],\n",
       "       ['está', \"es-'ta\"],\n",
       "       ['sabe', \"'sa-βe\"],\n",
       "       ['oportunidad', \"o-poɾ-tu-ni-'ðað\"],\n",
       "       ['toque', \"'to-ke\"],\n",
       "       ['él', \"'el\"],\n",
       "       ['su', \"'su\"],\n",
       "       ['hermana', \"eɾ-'ma-na\"],\n",
       "       ['esta', \"'es-ta\"],\n",
       "       ['taza', \"'ta-sa\"],\n",
       "       ['importante', \"im-poɾ-'tan-te\"],\n",
       "       ['qué', \"'ke\"],\n",
       "       ['el', \"'el\"],\n",
       "       ['tanto', \"'tan-to\"],\n",
       "       ['son', \"'son\"],\n",
       "       ['masa', \"'ma-sa\"],\n",
       "       ['diez', \"'di̯es\"],\n",
       "       ['eso', \"'e-so\"],\n",
       "       ['éxito', \"'ek-si-to\"],\n",
       "       ['extra', \"'eks-tɾa\"],\n",
       "       ['miedo', \"'mi̯e-ðo\"],\n",
       "       ['voy', \"'βoi̯\"],\n",
       "       ['leí', \"le-'i\"],\n",
       "       ['poema', \"po-'e-ma\"],\n",
       "       ['sea', \"'se-a\"],\n",
       "       ['aéreo', \"a-'e-ɾe-o\"],\n",
       "       ['día', \"'di-a\"],\n",
       "       ['leer', \"le-'eɾ\"],\n",
       "       ['trae', \"'tɾa-e\"],\n",
       "       ['ley', \"'lei̯\"],\n",
       "       ['oí', \"o-'i\"],\n",
       "       ['hoy', \"'oi̯\"],\n",
       "       ['reí', \"re-'i\"],\n",
       "       ['rey', \"'rei̯\"],\n",
       "       ['diario', \"'di̯a-ɾi̯o\"],\n",
       "       ['Saúl', \"sa-'ul\"],\n",
       "       ['Paula', \"'pau̯-la\"],\n",
       "       ['oído', \"o-'i-ðo\"],\n",
       "       ['oigo', \"'oi̯-ɣo\"],\n",
       "       ['mi', \"'mi\"],\n",
       "       ['tu', \"'tu\"],\n",
       "       ['Lola', \"'lo-la\"],\n",
       "       ['le', \"'le\"],\n",
       "       ['sonríe', \"son-'ɾi-e\"],\n",
       "       ['patrón', \"pa-'tɾon\"],\n",
       "       ['alto', 'al-to'],\n",
       "       ['yo', \"'ʝo\"],\n",
       "       ['huerta', \"'weɾ-ta\"],\n",
       "       ['huésped', \"'wes-peð\"],\n",
       "       ['cara', 'ka-ɾa'],\n",
       "       ['cada', 'ka-ða'],\n",
       "       ['siesta', \"'si̯es-ta\"],\n",
       "       ['caro', \"'ka-ɾo\"],\n",
       "       ['carro', \"'ka-ro\"],\n",
       "       ['toro', \"'to-ɾo\"],\n",
       "       ['existir', \"ek-sis-'tiɾ\"],\n",
       "       ['hiato', \"'ʝa-to\"],\n",
       "       ['tengo', \"'teŋ-go\"],\n",
       "       ['tener', \"te-'neɾ\"],\n",
       "       ['llave', 'ʝa-βe'],\n",
       "       ['libre', \"'li-βɾe\"],\n",
       "       ['calle', \"'ka-ʝe\"],\n",
       "       ['naranja', \"na-'ɾan-ha\"],\n",
       "       ['sopa', \"'so-pa\"],\n",
       "       ['jabón', \"ha-'βon\"],\n",
       "       ['llamar', \"ʝa-'maɾ\"]], dtype=object)"
      ]
     },
     "execution_count": 6,
     "metadata": {},
     "output_type": "execute_result"
    }
   ],
   "source": [
    "ipa_array[0:]"
   ]
  },
  {
   "cell_type": "markdown",
   "metadata": {},
   "source": [
    "## In this dataset, the x axis is the Spanish word, the y axis is the ipa transcription with the accents and syllable breaks"
   ]
  },
  {
   "cell_type": "markdown",
   "metadata": {},
   "source": [
    "## Let's get a better idea of what the string data actually looks like:"
   ]
  },
  {
   "cell_type": "code",
   "execution_count": 7,
   "metadata": {},
   "outputs": [
    {
     "name": "stdout",
     "output_type": "stream",
     "text": [
      "Spanish Word:  diario\n",
      "0 d\n",
      "1 i\n",
      "2 a\n",
      "3 r\n",
      "4 i\n",
      "5 o\n"
     ]
    }
   ],
   "source": [
    "# first, let's grab one of the Spanish words\n",
    "spanish_word = ipa_array[45][0]\n",
    "print(\"Spanish Word: \", spanish_word)\n",
    "for i,e in enumerate(spanish_word):\n",
    "    print(i, e)"
   ]
  },
  {
   "cell_type": "code",
   "execution_count": 8,
   "metadata": {},
   "outputs": [
    {
     "name": "stdout",
     "output_type": "stream",
     "text": [
      "IPA Word:  'di̯a-ɾi̯o\n",
      "0 '\n",
      "1 d\n",
      "2 i\n",
      "3 ̯\n",
      "4 a\n",
      "5 -\n",
      "6 ɾ\n",
      "7 i\n",
      "8 ̯\n",
      "9 o\n"
     ]
    }
   ],
   "source": [
    "# let's grab one of the IPA words\n",
    "ipa_word = ipa_array[45][1]\n",
    "print(\"IPA Word: \", ipa_word)\n",
    "for i,e in enumerate(ipa_word):\n",
    "    print(i,e)"
   ]
  },
  {
   "cell_type": "markdown",
   "metadata": {},
   "source": [
    "## As we can see, the lengths are going to be different. Obviously, there is the addition of the syllable breaks (`-`) and the accent marks (`'`), but there is also the factor of the semi-vowel markings, which are being interpreted as new characters (` ̯`)"
   ]
  },
  {
   "cell_type": "code",
   "execution_count": 9,
   "metadata": {},
   "outputs": [
    {
     "name": "stdout",
     "output_type": "stream",
     "text": [
      "Spanish Word:  patrón\n",
      "0 p\n",
      "1 a\n",
      "2 t\n",
      "3 r\n",
      "4 ó\n",
      "5 n\n"
     ]
    }
   ],
   "source": [
    "# lets test one more, just to see what it might look like\n",
    "spanish_word2 = ipa_array[55][0]\n",
    "print(\"Spanish Word: \", spanish_word2)\n",
    "for i,e in enumerate(spanish_word2):\n",
    "    print(i, e)"
   ]
  },
  {
   "cell_type": "code",
   "execution_count": 10,
   "metadata": {},
   "outputs": [
    {
     "name": "stdout",
     "output_type": "stream",
     "text": [
      "IPA Word:  pa-'tɾon\n",
      "0 p\n",
      "1 a\n",
      "2 -\n",
      "3 '\n",
      "4 t\n",
      "5 ɾ\n",
      "6 o\n",
      "7 n\n"
     ]
    }
   ],
   "source": [
    "ipa_word2 = ipa_array[55][1]\n",
    "print(\"IPA Word: \", ipa_word2)\n",
    "for i,e in enumerate(ipa_word2):\n",
    "    print(i,e)"
   ]
  },
  {
   "cell_type": "markdown",
   "metadata": {},
   "source": [
    "# So it looks like the accented \"o\" (`ó`) is still read as a single character. This all is good information to know before moving forward"
   ]
  },
  {
   "cell_type": "code",
   "execution_count": 11,
   "metadata": {},
   "outputs": [
    {
     "name": "stdout",
     "output_type": "stream",
     "text": [
      "Max Span Len: 11\n",
      "Max IPA Len: 16\n"
     ]
    },
    {
     "data": {
      "image/png": "[encoded data removed]",
      "text/plain": [
       "<Figure size 640x480 with 2 Axes>"
      ]
     },
     "metadata": {},
     "output_type": "display_data"
    }
   ],
   "source": [
    "spanish_orth_len = [len(st) for st in ipa_array[:,0]]\n",
    "\n",
    "ipa_len = [len(st) for st in ipa_array[:,1]]\n",
    "\n",
    "print(\"Max Span Len: \" + str(max(spanish_orth_len)))\n",
    "print(\"Max IPA Len: \" + str(max(ipa_len)))\n",
    "    \n",
    "length_df = pd.DataFrame({'span_orth_len':spanish_orth_len, 'ipa_len':ipa_len})\n",
    "\n",
    "length_df.hist(bins = 30)\n",
    "plt.show()"
   ]
  },
  {
   "cell_type": "markdown",
   "metadata": {},
   "source": [
    "## In order for this type of data to work on the Keras framework, it needs to be presented as if each char is an individual word"
   ]
  },
  {
   "cell_type": "code",
   "execution_count": 12,
   "metadata": {},
   "outputs": [],
   "source": [
    "spanish_lists = []\n",
    "ipa_lists = []\n",
    "\n",
    "for i in ipa_array[:]:\n",
    "    # iterate through characters in spanish\n",
    "    _span_str = i[0]\n",
    "    # create empty list\n",
    "    _span_list = []\n",
    "    # iterate through spanish characters\n",
    "    for x,e in enumerate(_span_str):\n",
    "        _span_list.append(e)\n",
    "      \n",
    "    # iterate through characters in ipa\n",
    "    _ipa_str = i[1]\n",
    "    _ipa_list = []\n",
    "    # iterate through ipa characters\n",
    "    for x,e in enumerate(_ipa_str):\n",
    "        _ipa_list.append(e)\n",
    "        \n",
    "    # create a new string where each word is a list\n",
    "    spanish_spaces = \" \".join(_span_list)\n",
    "    spanish_lists.append(spanish_spaces)\n",
    "    ipa_spaces = \" \".join(_ipa_list)\n",
    "    ipa_lists.append(ipa_spaces)\n",
    "    \n",
    "    \n",
    "        "
   ]
  },
  {
   "cell_type": "code",
   "execution_count": 13,
   "metadata": {},
   "outputs": [],
   "source": [
    "def merge(list1, list2):\n",
    "     \n",
    "    merged_list = [(list1[i], list2[i]) for i in range(0, len(list1))]\n",
    "    return merged_list"
   ]
  },
  {
   "cell_type": "code",
   "execution_count": 14,
   "metadata": {},
   "outputs": [],
   "source": [
    "ipa_list_tup = merge(spanish_lists, ipa_lists)\n",
    "ipa_array_clean = np.array(ipa_list_tup)"
   ]
  },
  {
   "cell_type": "code",
   "execution_count": 15,
   "metadata": {},
   "outputs": [
    {
     "data": {
      "text/plain": [
       "array([['h i c e', \"' i - s e\"],\n",
       "       ['c o m b i n a c i ó n', \"k o m - b i - n a - ' s i ̯ o n\"],\n",
       "       ['i n i c i o', \"i - ' n i - s i ̯ o\"],\n",
       "       ['e d u c a c i ó n', \"e - ð u - k a - ' s i ̯ o n\"],\n",
       "       ['h a s t a', \"' a s - t a\"],\n",
       "       ['o j o', \"' o - h o\"],\n",
       "       ['c a s i', \"' k a - s i\"],\n",
       "       ['u s a r', \"u - ' s a ɾ\"],\n",
       "       ['f u n c i o n a r', \"f u n - s i ̯ o - ' n a ɾ\"],\n",
       "       ['c a n t a r', \"k a n - ' t a ɾ\"],\n",
       "       ['a y u d a', \"a - ' j u - ð a\"],\n",
       "       ['h o m b r e', \"' o m - b ɾ e\"],\n",
       "       ['e s t á', \"e s - ' t a\"],\n",
       "       ['s a b e', \"' s a - β e\"],\n",
       "       ['o p o r t u n i d a d', \"o - p o ɾ - t u - n i - ' ð a ð\"],\n",
       "       ['t o q u e', \"' t o - k e\"],\n",
       "       ['é l', \"' e l\"],\n",
       "       ['s u', \"' s u\"],\n",
       "       ['h e r m a n a', \"e ɾ - ' m a - n a\"],\n",
       "       ['e s t a', \"' e s - t a\"],\n",
       "       ['t a z a', \"' t a - s a\"],\n",
       "       ['i m p o r t a n t e', \"i m - p o ɾ - ' t a n - t e\"],\n",
       "       ['q u é', \"' k e\"],\n",
       "       ['e l', \"' e l\"],\n",
       "       ['t a n t o', \"' t a n - t o\"],\n",
       "       ['s o n', \"' s o n\"],\n",
       "       ['m a s a', \"' m a - s a\"],\n",
       "       ['d i e z', \"' d i ̯ e s\"],\n",
       "       ['e s o', \"' e - s o\"],\n",
       "       ['é x i t o', \"' e k - s i - t o\"],\n",
       "       ['e x t r a', \"' e k s - t ɾ a\"],\n",
       "       ['m i e d o', \"' m i ̯ e - ð o\"],\n",
       "       ['v o y', \"' β o i ̯\"],\n",
       "       ['l e í', \"l e - ' i\"],\n",
       "       ['p o e m a', \"p o - ' e - m a\"],\n",
       "       ['s e a', \"' s e - a\"],\n",
       "       ['a é r e o', \"a - ' e - ɾ e - o\"],\n",
       "       ['d í a', \"' d i - a\"],\n",
       "       ['l e e r', \"l e - ' e ɾ\"],\n",
       "       ['t r a e', \"' t ɾ a - e\"],\n",
       "       ['l e y', \"' l e i ̯\"],\n",
       "       ['o í', \"o - ' i\"],\n",
       "       ['h o y', \"' o i ̯\"],\n",
       "       ['r e í', \"r e - ' i\"],\n",
       "       ['r e y', \"' r e i ̯\"],\n",
       "       ['d i a r i o', \"' d i ̯ a - ɾ i ̯ o\"],\n",
       "       ['S a ú l', \"s a - ' u l\"],\n",
       "       ['P a u l a', \"' p a u ̯ - l a\"],\n",
       "       ['o í d o', \"o - ' i - ð o\"],\n",
       "       ['o i g o', \"' o i ̯ - ɣ o\"],\n",
       "       ['m i', \"' m i\"],\n",
       "       ['t u', \"' t u\"],\n",
       "       ['L o l a', \"' l o - l a\"],\n",
       "       ['l e', \"' l e\"],\n",
       "       ['s o n r í e', \"s o n - ' ɾ i - e\"],\n",
       "       ['p a t r ó n', \"p a - ' t ɾ o n\"],\n",
       "       ['a l t o', 'a l - t o'],\n",
       "       ['y o', \"' ʝ o\"],\n",
       "       ['h u e r t a', \"' w e ɾ - t a\"],\n",
       "       ['h u é s p e d', \"' w e s - p e ð\"],\n",
       "       ['c a r a', 'k a - ɾ a'],\n",
       "       ['c a d a', 'k a - ð a'],\n",
       "       ['s i e s t a', \"' s i ̯ e s - t a\"],\n",
       "       ['c a r o', \"' k a - ɾ o\"],\n",
       "       ['c a r r o', \"' k a - r o\"],\n",
       "       ['t o r o', \"' t o - ɾ o\"],\n",
       "       ['e x i s t i r', \"e k - s i s - ' t i ɾ\"],\n",
       "       ['h i a t o', \"' ʝ a - t o\"],\n",
       "       ['t e n g o', \"' t e ŋ - g o\"],\n",
       "       ['t e n e r', \"t e - ' n e ɾ\"],\n",
       "       ['l l a v e', 'ʝ a - β e'],\n",
       "       ['l i b r e', \"' l i - β ɾ e\"],\n",
       "       ['c a l l e', \"' k a - ʝ e\"],\n",
       "       ['n a r a n j a', \"n a - ' ɾ a n - h a\"],\n",
       "       ['s o p a', \"' s o - p a\"],\n",
       "       ['j a b ó n', \"h a - ' β o n\"],\n",
       "       ['l l a m a r', \"ʝ a - ' m a ɾ\"]], dtype='<U31')"
      ]
     },
     "execution_count": 15,
     "metadata": {},
     "output_type": "execute_result"
    }
   ],
   "source": [
    "ipa_array_clean"
   ]
  },
  {
   "cell_type": "code",
   "execution_count": 123,
   "metadata": {},
   "outputs": [],
   "source": [
    "def tokenization(lines):\n",
    "    # explicitly add filters to assure hyphens and apostrophes are not removed\n",
    "    tokenizer = keras.preprocessing.text.Tokenizer(filters=\"-!'#$%&()*+,/:;<=>?@[\\\\]^_`{|}~\\t\\n\")\n",
    "    tokenizer.fit_on_texts(lines)\n",
    "    return tokenizer"
   ]
  },
  {
   "cell_type": "code",
   "execution_count": 124,
   "metadata": {},
   "outputs": [],
   "source": [
    "span_orth_tokenizer = tokenization(ipa_array_clean[:, 0])\n",
    "span_orth_vocab_size = len(span_orth_tokenizer.word_index) + 1"
   ]
  },
  {
   "cell_type": "code",
   "execution_count": 125,
   "metadata": {},
   "outputs": [],
   "source": [
    "ipa_tokenizer = tokenization(ipa_array_clean[:, 1])\n",
    "ipa_vocab_size = len(ipa_tokenizer.word_index) + 1"
   ]
  },
  {
   "cell_type": "code",
   "execution_count": 126,
   "metadata": {},
   "outputs": [
    {
     "data": {
      "text/plain": [
       "{'a': 1,\n",
       " 'e': 2,\n",
       " 'o': 3,\n",
       " 'r': 4,\n",
       " 't': 5,\n",
       " 'i': 6,\n",
       " 'n': 7,\n",
       " 's': 8,\n",
       " 'l': 9,\n",
       " 'c': 10,\n",
       " 'u': 11,\n",
       " 'd': 12,\n",
       " 'm': 13,\n",
       " 'h': 14,\n",
       " 'p': 15,\n",
       " 'y': 16,\n",
       " 'í': 17,\n",
       " 'b': 18,\n",
       " 'é': 19,\n",
       " 'ó': 20,\n",
       " 'j': 21,\n",
       " 'x': 22,\n",
       " 'q': 23,\n",
       " 'z': 24,\n",
       " 'v': 25,\n",
       " 'g': 26,\n",
       " 'f': 27,\n",
       " 'á': 28,\n",
       " 'ú': 29}"
      ]
     },
     "execution_count": 126,
     "metadata": {},
     "output_type": "execute_result"
    }
   ],
   "source": [
    "span_orth_tokenizer.word_index"
   ]
  },
  {
   "cell_type": "code",
   "execution_count": 127,
   "metadata": {},
   "outputs": [
    {
     "data": {
      "text/plain": [
       "{'a': 1,\n",
       " 'e': 2,\n",
       " 'o': 3,\n",
       " 'i': 4,\n",
       " 's': 5,\n",
       " 't': 6,\n",
       " 'ɾ': 7,\n",
       " 'n': 8,\n",
       " '̯': 9,\n",
       " 'k': 10,\n",
       " 'l': 11,\n",
       " 'm': 12,\n",
       " 'u': 13,\n",
       " 'ð': 14,\n",
       " 'p': 15,\n",
       " 'β': 16,\n",
       " 'ʝ': 17,\n",
       " 'h': 18,\n",
       " 'd': 19,\n",
       " 'r': 20,\n",
       " 'b': 21,\n",
       " 'w': 22,\n",
       " 'f': 23,\n",
       " 'j': 24,\n",
       " 'ɣ': 25,\n",
       " 'ŋ': 26,\n",
       " 'g': 27}"
      ]
     },
     "execution_count": 127,
     "metadata": {},
     "output_type": "execute_result"
    }
   ],
   "source": [
    "ipa_tokenizer.word_index"
   ]
  },
  {
   "cell_type": "code",
   "execution_count": 128,
   "metadata": {},
   "outputs": [],
   "source": [
    "def encode_sequences(tokenizer, length, lines):\n",
    "         # integer encode sequences\n",
    "         seq = tokenizer.texts_to_sequences(lines)\n",
    "         # pad sequences with 0 values\n",
    "         seq = keras.preprocessing.sequence.pad_sequences(seq, maxlen=length, padding='post')\n",
    "         return seq"
   ]
  },
  {
   "cell_type": "code",
   "execution_count": 129,
   "metadata": {},
   "outputs": [],
   "source": [
    "# break dataset into training and testing arrs\n",
    "train, test = train_test_split(ipa_array_clean, test_size=0.2, random_state = 12)\n"
   ]
  },
  {
   "cell_type": "code",
   "execution_count": 130,
   "metadata": {},
   "outputs": [],
   "source": [
    "span_length = max(spanish_orth_len)\n",
    "ipa_length = max(ipa_len)"
   ]
  },
  {
   "cell_type": "code",
   "execution_count": 131,
   "metadata": {},
   "outputs": [],
   "source": [
    "trainX = encode_sequences(span_orth_tokenizer, span_length, train[:, 1])\n",
    "trainY = encode_sequences(ipa_tokenizer, ipa_length, train[:, 0])\n",
    "#trainY = encode_output(trainY, span_orth_vocab_size)\n"
   ]
  },
  {
   "cell_type": "code",
   "execution_count": 132,
   "metadata": {},
   "outputs": [],
   "source": [
    "# prepare validation data\n",
    "testX = encode_sequences(span_orth_tokenizer, span_length, test[:, 1])\n",
    "testY = encode_sequences(ipa_tokenizer, ipa_length, test[:, 0])\n",
    "#testY = encode_output(testY, ipa_vocab_size)"
   ]
  },
  {
   "cell_type": "code",
   "execution_count": 133,
   "metadata": {},
   "outputs": [],
   "source": [
    "from tensorflow.keras.models import Sequential\n",
    "from tensorflow.keras.layers import Dense, LSTM, Embedding, RepeatVector\n",
    "from tensorflow.keras.callbacks import ModelCheckpoint\n",
    "from tensorflow.keras.models import load_model\n",
    "from keras import optimizers\n",
    "#tokenizer = keras.preprocessing.text.Tokenizer()"
   ]
  },
  {
   "cell_type": "code",
   "execution_count": 134,
   "metadata": {},
   "outputs": [],
   "source": [
    "# build NMT model\n",
    "def define_model(in_vocab,out_vocab, in_timesteps,out_timesteps,units):\n",
    "      model = Sequential()\n",
    "      model.add(Embedding(in_vocab, units, input_length=in_timesteps, mask_zero=True))\n",
    "      model.add(LSTM(units))\n",
    "      model.add(RepeatVector(out_timesteps))\n",
    "      model.add(LSTM(units, return_sequences=True))\n",
    "      model.add(Dense(out_vocab, activation='softmax'))\n",
    "      return model"
   ]
  },
  {
   "cell_type": "code",
   "execution_count": 135,
   "metadata": {},
   "outputs": [],
   "source": [
    "# model compilation\n",
    "model = define_model(span_orth_vocab_size, ipa_vocab_size, span_length, ipa_length, 10)\n",
    "rms = optimizers.RMSprop(learning_rate=0.01)\n",
    "model.compile(optimizer=rms, loss='sparse_categorical_crossentropy')"
   ]
  },
  {
   "cell_type": "code",
   "execution_count": 136,
   "metadata": {},
   "outputs": [],
   "source": [
    "filename = 'model.h1.2023-03-09-2'\n",
    "checkpoint = ModelCheckpoint(filename, monitor='val_loss', verbose=1, save_best_only=True, mode='min')"
   ]
  },
  {
   "cell_type": "code",
   "execution_count": 137,
   "metadata": {},
   "outputs": [
    {
     "name": "stdout",
     "output_type": "stream",
     "text": [
      "Epoch 1/30\n",
      "1/5 [=====>........................] - ETA: 11s - loss: 3.3315\n",
      "Epoch 1: val_loss improved from inf to 1.51597, saving model to model.h1.2023-03-09-2\n"
     ]
    },
    {
     "name": "stderr",
     "output_type": "stream",
     "text": [
      "WARNING:absl:Found untraced functions such as lstm_cell_30_layer_call_fn, lstm_cell_30_layer_call_and_return_conditional_losses, lstm_cell_31_layer_call_fn, lstm_cell_31_layer_call_and_return_conditional_losses while saving (showing 4 of 4). These functions will not be directly callable after loading.\n"
     ]
    },
    {
     "name": "stdout",
     "output_type": "stream",
     "text": [
      "INFO:tensorflow:Assets written to: model.h1.2023-03-09-2/assets\n"
     ]
    },
    {
     "name": "stderr",
     "output_type": "stream",
     "text": [
      "INFO:tensorflow:Assets written to: model.h1.2023-03-09-2/assets\n"
     ]
    },
    {
     "name": "stdout",
     "output_type": "stream",
     "text": [
      "5/5 [==============================] - 11s 2s/step - loss: 2.7278 - val_loss: 1.5160\n",
      "Epoch 2/30\n",
      "1/5 [=====>........................] - ETA: 0s - loss: 1.6226\n",
      "Epoch 2: val_loss improved from 1.51597 to 1.15775, saving model to model.h1.2023-03-09-2\n"
     ]
    },
    {
     "name": "stderr",
     "output_type": "stream",
     "text": [
      "WARNING:absl:Found untraced functions such as lstm_cell_30_layer_call_fn, lstm_cell_30_layer_call_and_return_conditional_losses, lstm_cell_31_layer_call_fn, lstm_cell_31_layer_call_and_return_conditional_losses while saving (showing 4 of 4). These functions will not be directly callable after loading.\n"
     ]
    },
    {
     "name": "stdout",
     "output_type": "stream",
     "text": [
      "INFO:tensorflow:Assets written to: model.h1.2023-03-09-2/assets\n"
     ]
    },
    {
     "name": "stderr",
     "output_type": "stream",
     "text": [
      "INFO:tensorflow:Assets written to: model.h1.2023-03-09-2/assets\n"
     ]
    },
    {
     "name": "stdout",
     "output_type": "stream",
     "text": [
      "5/5 [==============================] - 7s 2s/step - loss: 1.3648 - val_loss: 1.1577\n",
      "Epoch 3/30\n",
      "1/5 [=====>........................] - ETA: 0s - loss: 1.2639\n",
      "Epoch 3: val_loss improved from 1.15775 to 1.04214, saving model to model.h1.2023-03-09-2\n"
     ]
    },
    {
     "name": "stderr",
     "output_type": "stream",
     "text": [
      "WARNING:absl:Found untraced functions such as lstm_cell_30_layer_call_fn, lstm_cell_30_layer_call_and_return_conditional_losses, lstm_cell_31_layer_call_fn, lstm_cell_31_layer_call_and_return_conditional_losses while saving (showing 4 of 4). These functions will not be directly callable after loading.\n"
     ]
    },
    {
     "name": "stdout",
     "output_type": "stream",
     "text": [
      "INFO:tensorflow:Assets written to: model.h1.2023-03-09-2/assets\n"
     ]
    },
    {
     "name": "stderr",
     "output_type": "stream",
     "text": [
      "INFO:tensorflow:Assets written to: model.h1.2023-03-09-2/assets\n"
     ]
    },
    {
     "name": "stdout",
     "output_type": "stream",
     "text": [
      "5/5 [==============================] - 6s 2s/step - loss: 1.1436 - val_loss: 1.0421\n",
      "Epoch 4/30\n",
      "1/5 [=====>........................] - ETA: 0s - loss: 1.0016\n",
      "Epoch 4: val_loss improved from 1.04214 to 0.95361, saving model to model.h1.2023-03-09-2\n"
     ]
    },
    {
     "name": "stderr",
     "output_type": "stream",
     "text": [
      "WARNING:absl:Found untraced functions such as lstm_cell_30_layer_call_fn, lstm_cell_30_layer_call_and_return_conditional_losses, lstm_cell_31_layer_call_fn, lstm_cell_31_layer_call_and_return_conditional_losses while saving (showing 4 of 4). These functions will not be directly callable after loading.\n"
     ]
    },
    {
     "name": "stdout",
     "output_type": "stream",
     "text": [
      "INFO:tensorflow:Assets written to: model.h1.2023-03-09-2/assets\n"
     ]
    },
    {
     "name": "stderr",
     "output_type": "stream",
     "text": [
      "INFO:tensorflow:Assets written to: model.h1.2023-03-09-2/assets\n"
     ]
    },
    {
     "name": "stdout",
     "output_type": "stream",
     "text": [
      "5/5 [==============================] - 7s 2s/step - loss: 1.0319 - val_loss: 0.9536\n",
      "Epoch 5/30\n",
      "1/5 [=====>........................] - ETA: 0s - loss: 1.0585\n",
      "Epoch 5: val_loss improved from 0.95361 to 0.94189, saving model to model.h1.2023-03-09-2\n"
     ]
    },
    {
     "name": "stderr",
     "output_type": "stream",
     "text": [
      "WARNING:absl:Found untraced functions such as lstm_cell_30_layer_call_fn, lstm_cell_30_layer_call_and_return_conditional_losses, lstm_cell_31_layer_call_fn, lstm_cell_31_layer_call_and_return_conditional_losses while saving (showing 4 of 4). These functions will not be directly callable after loading.\n"
     ]
    },
    {
     "name": "stdout",
     "output_type": "stream",
     "text": [
      "INFO:tensorflow:Assets written to: model.h1.2023-03-09-2/assets\n"
     ]
    },
    {
     "name": "stderr",
     "output_type": "stream",
     "text": [
      "INFO:tensorflow:Assets written to: model.h1.2023-03-09-2/assets\n"
     ]
    },
    {
     "name": "stdout",
     "output_type": "stream",
     "text": [
      "5/5 [==============================] - 7s 2s/step - loss: 0.9975 - val_loss: 0.9419\n",
      "Epoch 6/30\n",
      "1/5 [=====>........................] - ETA: 0s - loss: 1.0652\n",
      "Epoch 6: val_loss did not improve from 0.94189\n",
      "5/5 [==============================] - 0s 14ms/step - loss: 0.9316 - val_loss: 0.9654\n",
      "Epoch 7/30\n",
      "1/5 [=====>........................] - ETA: 0s - loss: 0.9820\n",
      "Epoch 7: val_loss improved from 0.94189 to 0.89693, saving model to model.h1.2023-03-09-2\n"
     ]
    },
    {
     "name": "stderr",
     "output_type": "stream",
     "text": [
      "WARNING:absl:Found untraced functions such as lstm_cell_30_layer_call_fn, lstm_cell_30_layer_call_and_return_conditional_losses, lstm_cell_31_layer_call_fn, lstm_cell_31_layer_call_and_return_conditional_losses while saving (showing 4 of 4). These functions will not be directly callable after loading.\n"
     ]
    },
    {
     "name": "stdout",
     "output_type": "stream",
     "text": [
      "INFO:tensorflow:Assets written to: model.h1.2023-03-09-2/assets\n"
     ]
    },
    {
     "name": "stderr",
     "output_type": "stream",
     "text": [
      "INFO:tensorflow:Assets written to: model.h1.2023-03-09-2/assets\n"
     ]
    },
    {
     "name": "stdout",
     "output_type": "stream",
     "text": [
      "5/5 [==============================] - 7s 2s/step - loss: 0.9031 - val_loss: 0.8969\n",
      "Epoch 8/30\n",
      "1/5 [=====>........................] - ETA: 0s - loss: 0.7998\n",
      "Epoch 8: val_loss improved from 0.89693 to 0.88092, saving model to model.h1.2023-03-09-2\n"
     ]
    },
    {
     "name": "stderr",
     "output_type": "stream",
     "text": [
      "WARNING:absl:Found untraced functions such as lstm_cell_30_layer_call_fn, lstm_cell_30_layer_call_and_return_conditional_losses, lstm_cell_31_layer_call_fn, lstm_cell_31_layer_call_and_return_conditional_losses while saving (showing 4 of 4). These functions will not be directly callable after loading.\n"
     ]
    },
    {
     "name": "stdout",
     "output_type": "stream",
     "text": [
      "INFO:tensorflow:Assets written to: model.h1.2023-03-09-2/assets\n"
     ]
    },
    {
     "name": "stderr",
     "output_type": "stream",
     "text": [
      "INFO:tensorflow:Assets written to: model.h1.2023-03-09-2/assets\n"
     ]
    },
    {
     "name": "stdout",
     "output_type": "stream",
     "text": [
      "5/5 [==============================] - 6s 2s/step - loss: 0.8987 - val_loss: 0.8809\n",
      "Epoch 9/30\n",
      "1/5 [=====>........................] - ETA: 0s - loss: 0.8172\n",
      "Epoch 9: val_loss did not improve from 0.88092\n",
      "5/5 [==============================] - 0s 13ms/step - loss: 0.8497 - val_loss: 0.8869\n",
      "Epoch 10/30\n",
      "1/5 [=====>........................] - ETA: 0s - loss: 0.7578\n",
      "Epoch 10: val_loss did not improve from 0.88092\n",
      "5/5 [==============================] - 0s 16ms/step - loss: 0.8224 - val_loss: 1.0609\n",
      "Epoch 11/30\n",
      "1/5 [=====>........................] - ETA: 0s - loss: 0.8889\n",
      "Epoch 11: val_loss did not improve from 0.88092\n",
      "5/5 [==============================] - 0s 13ms/step - loss: 0.8840 - val_loss: 0.8813\n",
      "Epoch 12/30\n",
      "1/5 [=====>........................] - ETA: 0s - loss: 0.6890\n",
      "Epoch 12: val_loss improved from 0.88092 to 0.85019, saving model to model.h1.2023-03-09-2\n"
     ]
    },
    {
     "name": "stderr",
     "output_type": "stream",
     "text": [
      "WARNING:absl:Found untraced functions such as lstm_cell_30_layer_call_fn, lstm_cell_30_layer_call_and_return_conditional_losses, lstm_cell_31_layer_call_fn, lstm_cell_31_layer_call_and_return_conditional_losses while saving (showing 4 of 4). These functions will not be directly callable after loading.\n"
     ]
    },
    {
     "name": "stdout",
     "output_type": "stream",
     "text": [
      "INFO:tensorflow:Assets written to: model.h1.2023-03-09-2/assets\n"
     ]
    },
    {
     "name": "stderr",
     "output_type": "stream",
     "text": [
      "INFO:tensorflow:Assets written to: model.h1.2023-03-09-2/assets\n"
     ]
    },
    {
     "name": "stdout",
     "output_type": "stream",
     "text": [
      "5/5 [==============================] - 7s 2s/step - loss: 0.8233 - val_loss: 0.8502\n",
      "Epoch 13/30\n",
      "1/5 [=====>........................] - ETA: 0s - loss: 0.8352\n",
      "Epoch 13: val_loss improved from 0.85019 to 0.84438, saving model to model.h1.2023-03-09-2\n"
     ]
    },
    {
     "name": "stderr",
     "output_type": "stream",
     "text": [
      "WARNING:absl:Found untraced functions such as lstm_cell_30_layer_call_fn, lstm_cell_30_layer_call_and_return_conditional_losses, lstm_cell_31_layer_call_fn, lstm_cell_31_layer_call_and_return_conditional_losses while saving (showing 4 of 4). These functions will not be directly callable after loading.\n"
     ]
    },
    {
     "name": "stdout",
     "output_type": "stream",
     "text": [
      "INFO:tensorflow:Assets written to: model.h1.2023-03-09-2/assets\n"
     ]
    },
    {
     "name": "stderr",
     "output_type": "stream",
     "text": [
      "INFO:tensorflow:Assets written to: model.h1.2023-03-09-2/assets\n"
     ]
    },
    {
     "name": "stdout",
     "output_type": "stream",
     "text": [
      "5/5 [==============================] - 6s 2s/step - loss: 0.8058 - val_loss: 0.8444\n",
      "Epoch 14/30\n",
      "5/5 [==============================] - ETA: 0s - loss: 0.7845\n",
      "Epoch 14: val_loss did not improve from 0.84438\n",
      "5/5 [==============================] - 0s 21ms/step - loss: 0.7845 - val_loss: 0.9277\n",
      "Epoch 15/30\n",
      "1/5 [=====>........................] - ETA: 0s - loss: 0.9533\n",
      "Epoch 15: val_loss improved from 0.84438 to 0.83348, saving model to model.h1.2023-03-09-2\n"
     ]
    },
    {
     "name": "stderr",
     "output_type": "stream",
     "text": [
      "WARNING:absl:Found untraced functions such as lstm_cell_30_layer_call_fn, lstm_cell_30_layer_call_and_return_conditional_losses, lstm_cell_31_layer_call_fn, lstm_cell_31_layer_call_and_return_conditional_losses while saving (showing 4 of 4). These functions will not be directly callable after loading.\n"
     ]
    },
    {
     "name": "stdout",
     "output_type": "stream",
     "text": [
      "INFO:tensorflow:Assets written to: model.h1.2023-03-09-2/assets\n"
     ]
    },
    {
     "name": "stderr",
     "output_type": "stream",
     "text": [
      "INFO:tensorflow:Assets written to: model.h1.2023-03-09-2/assets\n"
     ]
    },
    {
     "name": "stdout",
     "output_type": "stream",
     "text": [
      "5/5 [==============================] - 7s 2s/step - loss: 0.7888 - val_loss: 0.8335\n",
      "Epoch 16/30\n",
      "1/5 [=====>........................] - ETA: 0s - loss: 0.8955\n",
      "Epoch 16: val_loss improved from 0.83348 to 0.82549, saving model to model.h1.2023-03-09-2\n"
     ]
    },
    {
     "name": "stderr",
     "output_type": "stream",
     "text": [
      "WARNING:absl:Found untraced functions such as lstm_cell_30_layer_call_fn, lstm_cell_30_layer_call_and_return_conditional_losses, lstm_cell_31_layer_call_fn, lstm_cell_31_layer_call_and_return_conditional_losses while saving (showing 4 of 4). These functions will not be directly callable after loading.\n"
     ]
    },
    {
     "name": "stdout",
     "output_type": "stream",
     "text": [
      "INFO:tensorflow:Assets written to: model.h1.2023-03-09-2/assets\n"
     ]
    },
    {
     "name": "stderr",
     "output_type": "stream",
     "text": [
      "INFO:tensorflow:Assets written to: model.h1.2023-03-09-2/assets\n"
     ]
    },
    {
     "name": "stdout",
     "output_type": "stream",
     "text": [
      "5/5 [==============================] - 7s 2s/step - loss: 0.7860 - val_loss: 0.8255\n",
      "Epoch 17/30\n",
      "1/5 [=====>........................] - ETA: 0s - loss: 0.8058\n",
      "Epoch 17: val_loss improved from 0.82549 to 0.81772, saving model to model.h1.2023-03-09-2\n"
     ]
    },
    {
     "name": "stderr",
     "output_type": "stream",
     "text": [
      "WARNING:absl:Found untraced functions such as lstm_cell_30_layer_call_fn, lstm_cell_30_layer_call_and_return_conditional_losses, lstm_cell_31_layer_call_fn, lstm_cell_31_layer_call_and_return_conditional_losses while saving (showing 4 of 4). These functions will not be directly callable after loading.\n"
     ]
    },
    {
     "name": "stdout",
     "output_type": "stream",
     "text": [
      "INFO:tensorflow:Assets written to: model.h1.2023-03-09-2/assets\n"
     ]
    },
    {
     "name": "stderr",
     "output_type": "stream",
     "text": [
      "INFO:tensorflow:Assets written to: model.h1.2023-03-09-2/assets\n"
     ]
    },
    {
     "name": "stdout",
     "output_type": "stream",
     "text": [
      "5/5 [==============================] - 7s 2s/step - loss: 0.7857 - val_loss: 0.8177\n",
      "Epoch 18/30\n",
      "1/5 [=====>........................] - ETA: 0s - loss: 0.7413\n",
      "Epoch 18: val_loss did not improve from 0.81772\n",
      "5/5 [==============================] - 0s 14ms/step - loss: 0.7614 - val_loss: 0.8992\n",
      "Epoch 19/30\n",
      "1/5 [=====>........................] - ETA: 0s - loss: 0.7750\n",
      "Epoch 19: val_loss did not improve from 0.81772\n",
      "5/5 [==============================] - 0s 12ms/step - loss: 0.7662 - val_loss: 0.8639\n",
      "Epoch 20/30\n",
      "1/5 [=====>........................] - ETA: 0s - loss: 0.7793\n",
      "Epoch 20: val_loss improved from 0.81772 to 0.81660, saving model to model.h1.2023-03-09-2\n"
     ]
    },
    {
     "name": "stderr",
     "output_type": "stream",
     "text": [
      "WARNING:absl:Found untraced functions such as lstm_cell_30_layer_call_fn, lstm_cell_30_layer_call_and_return_conditional_losses, lstm_cell_31_layer_call_fn, lstm_cell_31_layer_call_and_return_conditional_losses while saving (showing 4 of 4). These functions will not be directly callable after loading.\n"
     ]
    },
    {
     "name": "stdout",
     "output_type": "stream",
     "text": [
      "INFO:tensorflow:Assets written to: model.h1.2023-03-09-2/assets\n"
     ]
    },
    {
     "name": "stderr",
     "output_type": "stream",
     "text": [
      "INFO:tensorflow:Assets written to: model.h1.2023-03-09-2/assets\n"
     ]
    },
    {
     "name": "stdout",
     "output_type": "stream",
     "text": [
      "5/5 [==============================] - 6s 2s/step - loss: 0.7693 - val_loss: 0.8166\n",
      "Epoch 21/30\n",
      "1/5 [=====>........................] - ETA: 0s - loss: 0.8148\n",
      "Epoch 21: val_loss improved from 0.81660 to 0.81148, saving model to model.h1.2023-03-09-2\n"
     ]
    },
    {
     "name": "stderr",
     "output_type": "stream",
     "text": [
      "WARNING:absl:Found untraced functions such as lstm_cell_30_layer_call_fn, lstm_cell_30_layer_call_and_return_conditional_losses, lstm_cell_31_layer_call_fn, lstm_cell_31_layer_call_and_return_conditional_losses while saving (showing 4 of 4). These functions will not be directly callable after loading.\n"
     ]
    },
    {
     "name": "stdout",
     "output_type": "stream",
     "text": [
      "INFO:tensorflow:Assets written to: model.h1.2023-03-09-2/assets\n"
     ]
    },
    {
     "name": "stderr",
     "output_type": "stream",
     "text": [
      "INFO:tensorflow:Assets written to: model.h1.2023-03-09-2/assets\n"
     ]
    },
    {
     "name": "stdout",
     "output_type": "stream",
     "text": [
      "5/5 [==============================] - 7s 2s/step - loss: 0.7415 - val_loss: 0.8115\n",
      "Epoch 22/30\n",
      "1/5 [=====>........................] - ETA: 0s - loss: 0.6991\n",
      "Epoch 22: val_loss did not improve from 0.81148\n",
      "5/5 [==============================] - 0s 17ms/step - loss: 0.7245 - val_loss: 0.8247\n",
      "Epoch 23/30\n",
      "1/5 [=====>........................] - ETA: 0s - loss: 0.8723\n",
      "Epoch 23: val_loss did not improve from 0.81148\n",
      "5/5 [==============================] - 0s 13ms/step - loss: 0.7871 - val_loss: 0.8130\n",
      "Epoch 24/30\n",
      "1/5 [=====>........................] - ETA: 0s - loss: 0.5515\n",
      "Epoch 24: val_loss did not improve from 0.81148\n",
      "5/5 [==============================] - 0s 13ms/step - loss: 0.7353 - val_loss: 0.8271\n",
      "Epoch 25/30\n",
      "1/5 [=====>........................] - ETA: 0s - loss: 0.7556\n",
      "Epoch 25: val_loss improved from 0.81148 to 0.80288, saving model to model.h1.2023-03-09-2\n"
     ]
    },
    {
     "name": "stderr",
     "output_type": "stream",
     "text": [
      "WARNING:absl:Found untraced functions such as lstm_cell_30_layer_call_fn, lstm_cell_30_layer_call_and_return_conditional_losses, lstm_cell_31_layer_call_fn, lstm_cell_31_layer_call_and_return_conditional_losses while saving (showing 4 of 4). These functions will not be directly callable after loading.\n"
     ]
    },
    {
     "name": "stdout",
     "output_type": "stream",
     "text": [
      "INFO:tensorflow:Assets written to: model.h1.2023-03-09-2/assets\n"
     ]
    },
    {
     "name": "stderr",
     "output_type": "stream",
     "text": [
      "INFO:tensorflow:Assets written to: model.h1.2023-03-09-2/assets\n"
     ]
    },
    {
     "name": "stdout",
     "output_type": "stream",
     "text": [
      "5/5 [==============================] - 7s 2s/step - loss: 0.7229 - val_loss: 0.8029\n",
      "Epoch 26/30\n",
      "1/5 [=====>........................] - ETA: 0s - loss: 0.6267\n",
      "Epoch 26: val_loss did not improve from 0.80288\n",
      "5/5 [==============================] - 0s 13ms/step - loss: 0.7484 - val_loss: 0.8113\n",
      "Epoch 27/30\n",
      "1/5 [=====>........................] - ETA: 0s - loss: 0.6680\n",
      "Epoch 27: val_loss did not improve from 0.80288\n",
      "5/5 [==============================] - 0s 15ms/step - loss: 0.7256 - val_loss: 0.8154\n",
      "Epoch 28/30\n",
      "1/5 [=====>........................] - ETA: 0s - loss: 0.6974\n",
      "Epoch 28: val_loss did not improve from 0.80288\n",
      "5/5 [==============================] - 0s 13ms/step - loss: 0.7160 - val_loss: 0.9550\n",
      "Epoch 29/30\n",
      "1/5 [=====>........................] - ETA: 0s - loss: 0.8443\n",
      "Epoch 29: val_loss did not improve from 0.80288\n",
      "5/5 [==============================] - 0s 12ms/step - loss: 0.7271 - val_loss: 0.8040\n",
      "Epoch 30/30\n",
      "1/5 [=====>........................] - ETA: 0s - loss: 0.6585\n",
      "Epoch 30: val_loss did not improve from 0.80288\n",
      "5/5 [==============================] - 0s 13ms/step - loss: 0.7031 - val_loss: 0.8127\n"
     ]
    }
   ],
   "source": [
    "# train model\n",
    "history = model.fit(trainX, trainY.reshape(trainY.shape[0], trainY.shape[1], 1),\n",
    "                    epochs=30, batch_size=10, validation_split = 0.2,callbacks=[checkpoint], \n",
    "                    verbose=1)"
   ]
  },
  {
   "cell_type": "code",
   "execution_count": 138,
   "metadata": {},
   "outputs": [
    {
     "data": {
      "image/png": "[encoded data removed]",
      "text/plain": [
       "<Figure size 640x480 with 1 Axes>"
      ]
     },
     "metadata": {},
     "output_type": "display_data"
    }
   ],
   "source": [
    "plt.plot(history.history['loss'])\n",
    "plt.plot(history.history['val_loss'])\n",
    "plt.legend(['train','validation'])\n",
    "plt.show()"
   ]
  },
  {
   "cell_type": "code",
   "execution_count": 139,
   "metadata": {},
   "outputs": [
    {
     "data": {
      "text/plain": [
       "dict_items([('a', 1), ('e', 2), ('o', 3), ('r', 4), ('t', 5), ('i', 6), ('n', 7), ('s', 8), ('l', 9), ('c', 10), ('u', 11), ('d', 12), ('m', 13), ('h', 14), ('p', 15), ('y', 16), ('í', 17), ('b', 18), ('é', 19), ('ó', 20), ('j', 21), ('x', 22), ('q', 23), ('z', 24), ('v', 25), ('g', 26), ('f', 27), ('á', 28), ('ú', 29)])"
      ]
     },
     "execution_count": 139,
     "metadata": {},
     "output_type": "execute_result"
    }
   ],
   "source": [
    "span_orth_tokenizer.word_index.items()"
   ]
  },
  {
   "cell_type": "code",
   "execution_count": 140,
   "metadata": {},
   "outputs": [],
   "source": [
    "def get_word(n, tokenizer):\n",
    "    for word, index in tokenizer.word_index.items():\n",
    "        print(word)\n",
    "        print(index)\n",
    "        if index == n:\n",
    "            return word\n",
    "        return None"
   ]
  },
  {
   "cell_type": "code",
   "execution_count": 141,
   "metadata": {},
   "outputs": [
    {
     "name": "stderr",
     "output_type": "stream",
     "text": [
      "2023-03-09 10:51:19.031699: W tensorflow/core/common_runtime/graph_constructor.cc:805] Node 'cond/while' has 13 outputs but the _output_shapes attribute specifies shapes for 46 outputs. Output shapes may be inaccurate.\n",
      "2023-03-09 10:51:19.042001: W tensorflow/core/common_runtime/graph_constructor.cc:805] Node 'cond' has 5 outputs but the _output_shapes attribute specifies shapes for 46 outputs. Output shapes may be inaccurate.\n",
      "2023-03-09 10:51:19.070360: W tensorflow/core/common_runtime/graph_constructor.cc:805] Node 'cond/while' has 13 outputs but the _output_shapes attribute specifies shapes for 46 outputs. Output shapes may be inaccurate.\n",
      "2023-03-09 10:51:19.079474: W tensorflow/core/common_runtime/graph_constructor.cc:805] Node 'cond' has 5 outputs but the _output_shapes attribute specifies shapes for 46 outputs. Output shapes may be inaccurate.\n",
      "2023-03-09 10:51:19.459368: W tensorflow/core/common_runtime/graph_constructor.cc:805] Node 'cond/while' has 13 outputs but the _output_shapes attribute specifies shapes for 46 outputs. Output shapes may be inaccurate.\n",
      "2023-03-09 10:51:19.472290: W tensorflow/core/common_runtime/graph_constructor.cc:805] Node 'cond' has 5 outputs but the _output_shapes attribute specifies shapes for 46 outputs. Output shapes may be inaccurate.\n",
      "2023-03-09 10:51:19.552696: W tensorflow/core/common_runtime/graph_constructor.cc:805] Node 'cond/while' has 13 outputs but the _output_shapes attribute specifies shapes for 46 outputs. Output shapes may be inaccurate.\n",
      "2023-03-09 10:51:19.563139: W tensorflow/core/common_runtime/graph_constructor.cc:805] Node 'cond' has 5 outputs but the _output_shapes attribute specifies shapes for 46 outputs. Output shapes may be inaccurate.\n",
      "2023-03-09 10:51:19.687020: W tensorflow/core/common_runtime/graph_constructor.cc:805] Node 'cond/while' has 13 outputs but the _output_shapes attribute specifies shapes for 46 outputs. Output shapes may be inaccurate.\n",
      "2023-03-09 10:51:19.697277: W tensorflow/core/common_runtime/graph_constructor.cc:805] Node 'cond' has 5 outputs but the _output_shapes attribute specifies shapes for 46 outputs. Output shapes may be inaccurate.\n",
      "2023-03-09 10:51:19.998029: W tensorflow/core/common_runtime/graph_constructor.cc:805] Node 'cond/while' has 13 outputs but the _output_shapes attribute specifies shapes for 46 outputs. Output shapes may be inaccurate.\n",
      "2023-03-09 10:51:20.013381: W tensorflow/core/common_runtime/graph_constructor.cc:805] Node 'cond' has 5 outputs but the _output_shapes attribute specifies shapes for 46 outputs. Output shapes may be inaccurate.\n",
      "2023-03-09 10:51:20.256487: W tensorflow/core/common_runtime/graph_constructor.cc:805] Node 'cond/while' has 13 outputs but the _output_shapes attribute specifies shapes for 46 outputs. Output shapes may be inaccurate.\n",
      "2023-03-09 10:51:20.267350: W tensorflow/core/common_runtime/graph_constructor.cc:805] Node 'cond' has 5 outputs but the _output_shapes attribute specifies shapes for 46 outputs. Output shapes may be inaccurate.\n"
     ]
    },
    {
     "name": "stdout",
     "output_type": "stream",
     "text": [
      "1/1 [==============================] - 2s 2s/step\n"
     ]
    }
   ],
   "source": [
    "model = load_model('model.h1.2023-03-09-2')\n",
    "preds = model.predict(testX.reshape((testX.shape[0],testX.shape[1])))\n"
   ]
  },
  {
   "cell_type": "code",
   "execution_count": 142,
   "metadata": {},
   "outputs": [
    {
     "data": {
      "text/plain": [
       "array([[[6.90059885e-02, 1.10048629e-01, 1.09735042e-01, ...,\n",
       "         3.16492026e-03, 3.76951345e-03, 1.19902287e-02],\n",
       "        [1.84084252e-01, 1.51881471e-01, 1.16648354e-01, ...,\n",
       "         6.00997591e-04, 8.14438041e-04, 6.66261045e-03],\n",
       "        [6.27965927e-01, 9.64658484e-02, 5.27063310e-02, ...,\n",
       "         1.12082264e-04, 1.53598841e-04, 2.66505615e-03],\n",
       "        ...,\n",
       "        [9.94227648e-01, 1.21790788e-03, 8.03281670e-04, ...,\n",
       "         3.31192109e-06, 6.93333413e-06, 4.55491027e-05],\n",
       "        [9.94228959e-01, 1.21761870e-03, 8.03126488e-04, ...,\n",
       "         3.31160959e-06, 6.93296670e-06, 4.55407389e-05],\n",
       "        [9.94229674e-01, 1.21742976e-03, 8.03025963e-04, ...,\n",
       "         3.31141950e-06, 6.93276024e-06, 4.55353002e-05]],\n",
       "\n",
       "       [[2.79844292e-02, 1.09804720e-01, 1.17178485e-01, ...,\n",
       "         1.84009585e-03, 2.44370778e-03, 8.80545005e-03],\n",
       "        [3.87590900e-02, 1.50208950e-01, 1.38543382e-01, ...,\n",
       "         3.52244126e-04, 5.82919805e-04, 4.67858184e-03],\n",
       "        [1.12139709e-01, 1.81006715e-01, 1.35720581e-01, ...,\n",
       "         1.24633443e-04, 2.27227021e-04, 3.52833746e-03],\n",
       "        ...,\n",
       "        [9.94283140e-01, 1.20622700e-03, 7.96359673e-04, ...,\n",
       "         3.23624522e-06, 6.78092874e-06, 4.47716775e-05],\n",
       "        [9.94288564e-01, 1.20488205e-03, 7.95633357e-04, ...,\n",
       "         3.23489894e-06, 6.77939443e-06, 4.47330822e-05],\n",
       "        [9.94291782e-01, 1.20409566e-03, 7.95209955e-04, ...,\n",
       "         3.23413201e-06, 6.77853723e-06, 4.47105813e-05]],\n",
       "\n",
       "       [[3.56351472e-02, 9.55571756e-02, 1.04757033e-01, ...,\n",
       "         4.18769615e-03, 5.02838288e-03, 1.29747037e-02],\n",
       "        [4.17646095e-02, 1.29620746e-01, 1.28361136e-01, ...,\n",
       "         1.09482766e-03, 1.53535954e-03, 7.98010640e-03],\n",
       "        [9.26025659e-02, 1.64990366e-01, 1.33874565e-01, ...,\n",
       "         3.70946276e-04, 5.77269006e-04, 5.81411412e-03],\n",
       "        ...,\n",
       "        [9.94069338e-01, 1.24746724e-03, 8.24515650e-04, ...,\n",
       "         3.47800051e-06, 7.25391374e-06, 4.71439744e-05],\n",
       "        [9.94072378e-01, 1.24676933e-03, 8.24106624e-04, ...,\n",
       "         3.47705623e-06, 7.25240034e-06, 4.71229469e-05],\n",
       "        [9.94074047e-01, 1.24636479e-03, 8.23871465e-04, ...,\n",
       "         3.47652485e-06, 7.25157588e-06, 4.71108506e-05]],\n",
       "\n",
       "       ...,\n",
       "\n",
       "       [[4.92272042e-02, 9.69757736e-02, 1.00403875e-01, ...,\n",
       "         5.29948715e-03, 5.96952392e-03, 1.50198508e-02],\n",
       "        [7.77710974e-02, 1.35259569e-01, 1.22287929e-01, ...,\n",
       "         1.51993334e-03, 1.93239411e-03, 9.86821949e-03],\n",
       "        [2.25867778e-01, 1.61704510e-01, 1.12237915e-01, ...,\n",
       "         4.64990997e-04, 6.29347633e-04, 6.65127672e-03],\n",
       "        ...,\n",
       "        [9.94043291e-01, 1.25404017e-03, 8.27605370e-04, ...,\n",
       "         3.50706637e-06, 7.31343289e-06, 4.75696106e-05],\n",
       "        [9.94045258e-01, 1.25359779e-03, 8.27354903e-04, ...,\n",
       "         3.50644450e-06, 7.31251976e-06, 4.75562774e-05],\n",
       "        [9.94046211e-01, 1.25332945e-03, 8.27203796e-04, ...,\n",
       "         3.50609662e-06, 7.31201044e-06, 4.75482084e-05]],\n",
       "\n",
       "       [[2.56732833e-02, 1.07920304e-01, 1.19498521e-01, ...,\n",
       "         1.48971821e-03, 2.12324108e-03, 7.70130428e-03],\n",
       "        [3.33371721e-02, 1.43151268e-01, 1.40421093e-01, ...,\n",
       "         2.66900199e-04, 4.89323109e-04, 3.94465076e-03],\n",
       "        [8.59624073e-02, 1.65815741e-01, 1.41067103e-01, ...,\n",
       "         9.47299050e-05, 2.00708237e-04, 2.97160284e-03],\n",
       "        ...,\n",
       "        [9.94313121e-01, 1.20050390e-03, 7.92161853e-04, ...,\n",
       "         3.20427125e-06, 6.71860926e-06, 4.44276520e-05],\n",
       "        [9.94318664e-01, 1.19918108e-03, 7.91433442e-04, ...,\n",
       "         3.20291429e-06, 6.71690441e-06, 4.43897843e-05],\n",
       "        [9.94321585e-01, 1.19842147e-03, 7.91017723e-04, ...,\n",
       "         3.20214781e-06, 6.71596308e-06, 4.43681602e-05]],\n",
       "\n",
       "       [[1.97921265e-02, 1.05908513e-01, 1.20136842e-01, ...,\n",
       "         1.21860439e-03, 1.81410904e-03, 6.77627884e-03],\n",
       "        [2.28904504e-02, 1.35933191e-01, 1.40437037e-01, ...,\n",
       "         2.27503857e-04, 4.40450647e-04, 3.42990016e-03],\n",
       "        [4.86899130e-02, 1.55060127e-01, 1.46304250e-01, ...,\n",
       "         8.57812120e-05, 1.97512432e-04, 2.60253740e-03],\n",
       "        ...,\n",
       "        [9.94308531e-01, 1.20258564e-03, 7.92949984e-04, ...,\n",
       "         3.18321645e-06, 6.67423274e-06, 4.43189456e-05],\n",
       "        [9.94324327e-01, 1.19871448e-03, 7.90714403e-04, ...,\n",
       "         3.17961985e-06, 6.66890537e-06, 4.42086275e-05],\n",
       "        [9.94332790e-01, 1.19669945e-03, 7.89556943e-04, ...,\n",
       "         3.17774311e-06, 6.66617643e-06, 4.41513621e-05]]], dtype=float32)"
      ]
     },
     "execution_count": 142,
     "metadata": {},
     "output_type": "execute_result"
    }
   ],
   "source": [
    "preds"
   ]
  },
  {
   "cell_type": "code",
   "execution_count": 146,
   "metadata": {},
   "outputs": [],
   "source": [
    "encoded_argmax  = np(preds, axis=1)\n",
    "preds_text = ipa_tokenizer.sequences_to_texts(encoded_argmax)  "
   ]
  },
  {
   "cell_type": "code",
   "execution_count": 147,
   "metadata": {},
   "outputs": [
    {
     "data": {
      "text/plain": [
       "['p p p p p p p p p p p p p p p p p p p p p p p p p p p',\n",
       " 'p p p p p p p p p p p p p p p p p p p p p p p p p p p',\n",
       " 'p p p p p p p p p p p p p p p p p p p p p p p p p p p',\n",
       " 'p p p p p p p p p p p p p p p p p p p p p p p p p p p',\n",
       " 'a p p p p p p p p p p p p p p p p p p p p p p p p p p p',\n",
       " 'p p p p p p p p p p p p p p p p p p p p p p p p p p p',\n",
       " 'p p p p p p p p p p p p p p p p p p p p p p p p p p p',\n",
       " 'p p p p p p p p p p p p p p p p p p p p p p p p p p p',\n",
       " 'a p p p p p p p p p p p p p p p p p p p p p p p p p p p',\n",
       " 'p p p p p p p p p p p p p p p p p p p p p p p p p p p',\n",
       " 'p p p p p p p p p p p p p p p p p p p p p p p p p p p',\n",
       " 'p p p p p p p p p p p p p p p p p p p p p p p p p p p',\n",
       " 'a p p p p p p p p p p p p p p p p p p p p p p p p p p p',\n",
       " 'p p p p p p p p p p p p p p p p p p p p p p p p p p p',\n",
       " 'p p p p p p p p p p p p p p p p p p p p p p p p p p p',\n",
       " 'p p p p p p p p p p p p p p p p p p p p p p p p p p p']"
      ]
     },
     "execution_count": 147,
     "metadata": {},
     "output_type": "execute_result"
    }
   ],
   "source": [
    "preds_text"
   ]
  },
  {
   "cell_type": "code",
   "execution_count": 148,
   "metadata": {},
   "outputs": [
    {
     "data": {
      "text/html": [
       "<div>\n",
       "<style scoped>\n",
       "    .dataframe tbody tr th:only-of-type {\n",
       "        vertical-align: middle;\n",
       "    }\n",
       "\n",
       "    .dataframe tbody tr th {\n",
       "        vertical-align: top;\n",
       "    }\n",
       "\n",
       "    .dataframe thead th {\n",
       "        text-align: right;\n",
       "    }\n",
       "</style>\n",
       "<table border=\"1\" class=\"dataframe\">\n",
       "  <thead>\n",
       "    <tr style=\"text-align: right;\">\n",
       "      <th></th>\n",
       "      <th>actual</th>\n",
       "      <th>predicted</th>\n",
       "    </tr>\n",
       "  </thead>\n",
       "  <tbody>\n",
       "    <tr>\n",
       "      <th>0</th>\n",
       "      <td>e s o</td>\n",
       "      <td>p p p p p p p p p p p p p p p p p p p p p p p p p p p</td>\n",
       "    </tr>\n",
       "    <tr>\n",
       "      <th>1</th>\n",
       "      <td>P a u l a</td>\n",
       "      <td>p p p p p p p p p p p p p p p p p p p p p p p p p p p</td>\n",
       "    </tr>\n",
       "    <tr>\n",
       "      <th>2</th>\n",
       "      <td>t r a e</td>\n",
       "      <td>p p p p p p p p p p p p p p p p p p p p p p p p p p p</td>\n",
       "    </tr>\n",
       "    <tr>\n",
       "      <th>3</th>\n",
       "      <td>u s a r</td>\n",
       "      <td>p p p p p p p p p p p p p p p p p p p p p p p p p p p</td>\n",
       "    </tr>\n",
       "    <tr>\n",
       "      <th>4</th>\n",
       "      <td>f u n c i o n a r</td>\n",
       "      <td>a p p p p p p p p p p p p p p p p p p p p p p p p p p p</td>\n",
       "    </tr>\n",
       "    <tr>\n",
       "      <th>5</th>\n",
       "      <td>h o y</td>\n",
       "      <td>p p p p p p p p p p p p p p p p p p p p p p p p p p p</td>\n",
       "    </tr>\n",
       "    <tr>\n",
       "      <th>6</th>\n",
       "      <td>d í a</td>\n",
       "      <td>p p p p p p p p p p p p p p p p p p p p p p p p p p p</td>\n",
       "    </tr>\n",
       "    <tr>\n",
       "      <th>7</th>\n",
       "      <td>o í</td>\n",
       "      <td>p p p p p p p p p p p p p p p p p p p p p p p p p p p</td>\n",
       "    </tr>\n",
       "    <tr>\n",
       "      <th>8</th>\n",
       "      <td>o p o r t u n i d a d</td>\n",
       "      <td>a p p p p p p p p p p p p p p p p p p p p p p p p p p p</td>\n",
       "    </tr>\n",
       "    <tr>\n",
       "      <th>9</th>\n",
       "      <td>e l</td>\n",
       "      <td>p p p p p p p p p p p p p p p p p p p p p p p p p p p</td>\n",
       "    </tr>\n",
       "    <tr>\n",
       "      <th>10</th>\n",
       "      <td>r e y</td>\n",
       "      <td>p p p p p p p p p p p p p p p p p p p p p p p p p p p</td>\n",
       "    </tr>\n",
       "    <tr>\n",
       "      <th>11</th>\n",
       "      <td>s u</td>\n",
       "      <td>p p p p p p p p p p p p p p p p p p p p p p p p p p p</td>\n",
       "    </tr>\n",
       "    <tr>\n",
       "      <th>12</th>\n",
       "      <td>n a r a n j a</td>\n",
       "      <td>a p p p p p p p p p p p p p p p p p p p p p p p p p p p</td>\n",
       "    </tr>\n",
       "    <tr>\n",
       "      <th>13</th>\n",
       "      <td>c a l l e</td>\n",
       "      <td>p p p p p p p p p p p p p p p p p p p p p p p p p p p</td>\n",
       "    </tr>\n",
       "    <tr>\n",
       "      <th>14</th>\n",
       "      <td>a l t o</td>\n",
       "      <td>p p p p p p p p p p p p p p p p p p p p p p p p p p p</td>\n",
       "    </tr>\n",
       "    <tr>\n",
       "      <th>15</th>\n",
       "      <td>d i a r i o</td>\n",
       "      <td>p p p p p p p p p p p p p p p p p p p p p p p p p p p</td>\n",
       "    </tr>\n",
       "  </tbody>\n",
       "</table>\n",
       "</div>"
      ],
      "text/plain": [
       "                   actual  \\\n",
       "0                   e s o   \n",
       "1               P a u l a   \n",
       "2                 t r a e   \n",
       "3                 u s a r   \n",
       "4       f u n c i o n a r   \n",
       "5                   h o y   \n",
       "6                   d í a   \n",
       "7                     o í   \n",
       "8   o p o r t u n i d a d   \n",
       "9                     e l   \n",
       "10                  r e y   \n",
       "11                    s u   \n",
       "12          n a r a n j a   \n",
       "13              c a l l e   \n",
       "14                a l t o   \n",
       "15            d i a r i o   \n",
       "\n",
       "                                                  predicted  \n",
       "0     p p p p p p p p p p p p p p p p p p p p p p p p p p p  \n",
       "1     p p p p p p p p p p p p p p p p p p p p p p p p p p p  \n",
       "2     p p p p p p p p p p p p p p p p p p p p p p p p p p p  \n",
       "3     p p p p p p p p p p p p p p p p p p p p p p p p p p p  \n",
       "4   a p p p p p p p p p p p p p p p p p p p p p p p p p p p  \n",
       "5     p p p p p p p p p p p p p p p p p p p p p p p p p p p  \n",
       "6     p p p p p p p p p p p p p p p p p p p p p p p p p p p  \n",
       "7     p p p p p p p p p p p p p p p p p p p p p p p p p p p  \n",
       "8   a p p p p p p p p p p p p p p p p p p p p p p p p p p p  \n",
       "9     p p p p p p p p p p p p p p p p p p p p p p p p p p p  \n",
       "10    p p p p p p p p p p p p p p p p p p p p p p p p p p p  \n",
       "11    p p p p p p p p p p p p p p p p p p p p p p p p p p p  \n",
       "12  a p p p p p p p p p p p p p p p p p p p p p p p p p p p  \n",
       "13    p p p p p p p p p p p p p p p p p p p p p p p p p p p  \n",
       "14    p p p p p p p p p p p p p p p p p p p p p p p p p p p  \n",
       "15    p p p p p p p p p p p p p p p p p p p p p p p p p p p  "
      ]
     },
     "execution_count": 148,
     "metadata": {},
     "output_type": "execute_result"
    }
   ],
   "source": [
    "pred_df = pd.DataFrame({'actual' : test[:,0], 'predicted' : preds_text})\n",
    "pred_df"
   ]
  },
  {
   "cell_type": "code",
   "execution_count": null,
   "metadata": {},
   "outputs": [],
   "source": []
  },
  {
   "cell_type": "code",
   "execution_count": null,
   "metadata": {},
   "outputs": [],
   "source": []
  },
  {
   "cell_type": "code",
   "execution_count": null,
   "metadata": {},
   "outputs": [],
   "source": []
  },
  {
   "cell_type": "code",
   "execution_count": null,
   "metadata": {},
   "outputs": [],
   "source": []
  }
 ],
 "metadata": {
  "kernelspec": {
   "display_name": "Python 3 (ipykernel)",
   "language": "python",
   "name": "python3"
  },
  "language_info": {
   "codemirror_mode": {
    "name": "ipython",
    "version": 3
   },
   "file_extension": ".py",
   "mimetype": "text/x-python",
   "name": "python",
   "nbconvert_exporter": "python",
   "pygments_lexer": "ipython3",
   "version": "3.9.13"
  },
  "vscode": {
   "interpreter": {
    "hash": "094fe2711c494eb8fc3c7b741182af166b9f45fe91194cd803edd6afa02ef748"
   }
  }
 },
 "nbformat": 4,
 "nbformat_minor": 4
}
