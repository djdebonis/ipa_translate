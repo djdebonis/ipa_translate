{
 "cells": [
  {
   "cell_type": "code",
   "execution_count": 1,
   "metadata": {},
   "outputs": [],
   "source": [
    "import pandas as pd"
   ]
  },
  {
   "cell_type": "code",
   "execution_count": 29,
   "metadata": {},
   "outputs": [],
   "source": [
    "import string\n",
    "import re\n",
    "import numpy as np\n",
    "import pandas as pd\n",
    "from tensorflow import keras\n",
    "%matplotlib inline\n",
    "pd.set_option('display.max_colwidth', 200)\n",
    "import matplotlib.pyplot as plt"
   ]
  },
  {
   "cell_type": "code",
   "execution_count": 132,
   "metadata": {},
   "outputs": [],
   "source": [
    "from sklearn.model_selection import train_test_split"
   ]
  },
  {
   "cell_type": "code",
   "execution_count": 34,
   "metadata": {},
   "outputs": [],
   "source": [
    "import_df = pd.read_csv(\"ipatest.csv\")\n",
    "import_df = import_df.dropna()"
   ]
  },
  {
   "cell_type": "code",
   "execution_count": 35,
   "metadata": {},
   "outputs": [],
   "source": [
    "ipa_array = np.array(import_df)"
   ]
  },
  {
   "cell_type": "code",
   "execution_count": 105,
   "metadata": {},
   "outputs": [
    {
     "data": {
      "text/plain": [
       "array([['hice', \"'i-se\"],\n",
       "       ['combinación', \"kom-bi-na-'si̯on\"],\n",
       "       ['inicio', \"i-'ni-si̯o\"],\n",
       "       ['educación', \"e-ðu-ka-'si̯on\"],\n",
       "       ['hasta', \"'as-ta\"],\n",
       "       ['ojo', \"'o-ho\"],\n",
       "       ['casi', \"'ka-si\"],\n",
       "       ['usar', \"u-'saɾ\"],\n",
       "       ['funcionar', \"fun-si̯o-'naɾ\"],\n",
       "       ['cantar', \"kan-'taɾ\"],\n",
       "       ['ayuda', \"a-'ju-ða\"],\n",
       "       ['hombre', \"'om-bɾe\"],\n",
       "       ['está', \"es-'ta\"],\n",
       "       ['sabe', \"'sa-βe\"],\n",
       "       ['oportunidad', \"o-poɾ-tu-ni-'ðað\"],\n",
       "       ['toque', \"'to-ke\"],\n",
       "       ['él', \"'el\"],\n",
       "       ['su', \"'su\"],\n",
       "       ['hermana', \"eɾ-'ma-na\"],\n",
       "       ['esta', \"'es-ta\"],\n",
       "       ['taza', \"'ta-sa\"],\n",
       "       ['importante', \"im-poɾ-'tan-te\"],\n",
       "       ['qué', \"'ke\"],\n",
       "       ['el', \"'el\"],\n",
       "       ['tanto', \"'tan-to\"],\n",
       "       ['son', \"'son\"],\n",
       "       ['masa', \"'ma-sa\"],\n",
       "       ['diez', \"'di̯es\"],\n",
       "       ['eso', \"'e-so\"],\n",
       "       ['éxito', \"'ek-si-to\"],\n",
       "       ['extra', \"'eks-tɾa\"],\n",
       "       ['miedo', \"'mi̯e-ðo\"],\n",
       "       ['voy', \"'βoi̯\"],\n",
       "       ['leí', \"le-'i\"],\n",
       "       ['poema', \"po-'e-ma\"],\n",
       "       ['sea', \"'se-a\"],\n",
       "       ['aéreo', \"a-'e-ɾe-o\"],\n",
       "       ['día', \"'di-a\"],\n",
       "       ['leer', \"le-'eɾ\"],\n",
       "       ['trae', \"'tɾa-e\"],\n",
       "       ['ley', \"'lei̯\"],\n",
       "       ['oí', \"o-'i\"],\n",
       "       ['hoy', \"'oi̯\"],\n",
       "       ['reí', \"re-'i\"],\n",
       "       ['rey', \"'rei̯\"],\n",
       "       ['diario', \"'di̯a-ɾi̯o\"],\n",
       "       ['Saúl', \"sa-'ul\"],\n",
       "       ['Paula', \"'pau̯-la\"],\n",
       "       ['oído', \"o-'i-ðo\"],\n",
       "       ['oigo', \"'oi̯-ɣo\"],\n",
       "       ['mi', \"'mi\"],\n",
       "       ['tu', \"'tu\"],\n",
       "       ['Lola', \"'lo-la\"],\n",
       "       ['le', \"'le\"],\n",
       "       ['sonríe', \"son-'ɾi-e\"],\n",
       "       ['patrón', \"pa-'tɾon\"],\n",
       "       ['alto', 'al-to'],\n",
       "       ['yo', \"'ʝo\"],\n",
       "       ['huerta', \"'weɾ-ta\"],\n",
       "       ['huésped', \"'wes-peð\"],\n",
       "       ['cara', 'ka-ɾa'],\n",
       "       ['cada', 'ka-ða'],\n",
       "       ['siesta', \"'si̯es-ta\"],\n",
       "       ['caro', \"'ka-ɾo\"],\n",
       "       ['carro', \"'ka-ro\"],\n",
       "       ['toro', \"'to-ɾo\"],\n",
       "       ['existir', \"ek-sis-'tiɾ\"],\n",
       "       ['tengo', \"'teŋ-go\"],\n",
       "       ['tener', \"te-'neɾ\"],\n",
       "       ['llave', \"'ʝa-βe\"],\n",
       "       ['libre', \"'li-βɾe\"],\n",
       "       ['calle', \"'ka-ʝe\"]], dtype=object)"
      ]
     },
     "execution_count": 105,
     "metadata": {},
     "output_type": "execute_result"
    }
   ],
   "source": [
    "ipa_array[0:]"
   ]
  },
  {
   "cell_type": "markdown",
   "metadata": {},
   "source": [
    "## In this dataset, the x axis is the Spanish word, the y axis is the ipa transcription with the accents and syllable breaks"
   ]
  },
  {
   "cell_type": "markdown",
   "metadata": {},
   "source": [
    "## Let's get a better idea of what the string data actually looks like:"
   ]
  },
  {
   "cell_type": "code",
   "execution_count": 106,
   "metadata": {},
   "outputs": [
    {
     "name": "stdout",
     "output_type": "stream",
     "text": [
      "Spanish Word:  diario\n",
      "0 d\n",
      "1 i\n",
      "2 a\n",
      "3 r\n",
      "4 i\n",
      "5 o\n"
     ]
    }
   ],
   "source": [
    "# first, let's grab one of the Spanish words\n",
    "spanish_word = ipa_array[45][0]\n",
    "print(\"Spanish Word: \", spanish_word)\n",
    "for i,e in enumerate(spanish_word):\n",
    "    print(i, e)"
   ]
  },
  {
   "cell_type": "code",
   "execution_count": 107,
   "metadata": {},
   "outputs": [
    {
     "name": "stdout",
     "output_type": "stream",
     "text": [
      "IPA Word:  'di̯a-ɾi̯o\n",
      "0 '\n",
      "1 d\n",
      "2 i\n",
      "3 ̯\n",
      "4 a\n",
      "5 -\n",
      "6 ɾ\n",
      "7 i\n",
      "8 ̯\n",
      "9 o\n"
     ]
    }
   ],
   "source": [
    "# let's grab one of the IPA words\n",
    "ipa_word = ipa_array[45][1]\n",
    "print(\"IPA Word: \", ipa_word)\n",
    "for i,e in enumerate(ipa_word):\n",
    "    print(i,e)"
   ]
  },
  {
   "cell_type": "markdown",
   "metadata": {},
   "source": [
    "## As we can see, the lengths are going to be different. Obviously, there is the addition of the syllable breaks (`-`) and the accent marks (`'`), but there is also the factor of the semi-vowel markings, which are being interpreted as new characters (` ̯`)"
   ]
  },
  {
   "cell_type": "code",
   "execution_count": 108,
   "metadata": {},
   "outputs": [
    {
     "name": "stdout",
     "output_type": "stream",
     "text": [
      "Spanish Word:  patrón\n",
      "0 p\n",
      "1 a\n",
      "2 t\n",
      "3 r\n",
      "4 ó\n",
      "5 n\n"
     ]
    }
   ],
   "source": [
    "# lets test one more, just to see what it might look like\n",
    "spanish_word2 = ipa_array[55][0]\n",
    "print(\"Spanish Word: \", spanish_word2)\n",
    "for i,e in enumerate(spanish_word2):\n",
    "    print(i, e)"
   ]
  },
  {
   "cell_type": "code",
   "execution_count": 109,
   "metadata": {},
   "outputs": [
    {
     "name": "stdout",
     "output_type": "stream",
     "text": [
      "IPA Word:  pa-'tɾon\n",
      "0 p\n",
      "1 a\n",
      "2 -\n",
      "3 '\n",
      "4 t\n",
      "5 ɾ\n",
      "6 o\n",
      "7 n\n"
     ]
    }
   ],
   "source": [
    "ipa_word2 = ipa_array[55][1]\n",
    "print(\"IPA Word: \", ipa_word2)\n",
    "for i,e in enumerate(ipa_word2):\n",
    "    print(i,e)"
   ]
  },
  {
   "cell_type": "markdown",
   "metadata": {},
   "source": [
    "# So it looks like the accented \"o\" (`ó`) is still read as a single character. This all is good information to know before moving forward"
   ]
  },
  {
   "cell_type": "code",
   "execution_count": 110,
   "metadata": {},
   "outputs": [
    {
     "data": {
      "image/png": "[encoded data removed]",
      "text/plain": [
       "<Figure size 640x480 with 2 Axes>"
      ]
     },
     "metadata": {},
     "output_type": "display_data"
    }
   ],
   "source": [
    "spanish_orth_len = [len(st) for st in ipa_array[:,0]]\n",
    "\n",
    "ipa_len = [len(st) for st in ipa_array[:,1]]\n",
    "    \n",
    "length_df = pd.DataFrame({'span_orth_len':spanish_orth_len, 'ipa_len':ipa_len})\n",
    "\n",
    "length_df.hist(bins = 30)\n",
    "plt.show()"
   ]
  },
  {
   "cell_type": "code",
   "execution_count": null,
   "metadata": {},
   "outputs": [],
   "source": []
  },
  {
   "cell_type": "code",
   "execution_count": 111,
   "metadata": {},
   "outputs": [],
   "source": [
    "spanish_lists = []\n",
    "ipa_lists = []\n",
    "\n",
    "for i in ipa_array[:]:\n",
    "    # iterate through characters in spanish\n",
    "    _span_str = i[0]\n",
    "    # create empty list\n",
    "    _span_list = []\n",
    "    # iterate through spanish characters\n",
    "    for x,e in enumerate(_span_str):\n",
    "        _span_list.append(e)\n",
    "      \n",
    "    # iterate through characters in ipa\n",
    "    _ipa_str = i[1]\n",
    "    _ipa_list = []\n",
    "    # iterate through ipa characters\n",
    "    for x,e in enumerate(_ipa_str):\n",
    "        _ipa_list.append(e)\n",
    "        \n",
    "    # create a new string where each word is a list\n",
    "    spanish_spaces = \" \".join(_span_list)\n",
    "    spanish_lists.append(spanish_spaces)\n",
    "    ipa_spaces = \" \".join(_ipa_list)\n",
    "    ipa_lists.append(ipa_spaces)\n",
    "    \n",
    "    \n",
    "        "
   ]
  },
  {
   "cell_type": "code",
   "execution_count": 112,
   "metadata": {},
   "outputs": [],
   "source": [
    "def merge(list1, list2):\n",
    "     \n",
    "    merged_list = [(list1[i], list2[i]) for i in range(0, len(list1))]\n",
    "    return merged_list"
   ]
  },
  {
   "cell_type": "code",
   "execution_count": 113,
   "metadata": {},
   "outputs": [],
   "source": [
    "ipa_list_tup = merge(spanish_lists, ipa_lists)\n",
    "ipa_array_clean = np.array(ipa_list_tup)"
   ]
  },
  {
   "cell_type": "code",
   "execution_count": 114,
   "metadata": {},
   "outputs": [
    {
     "data": {
      "text/plain": [
       "array([['h i c e', \"' i - s e\"],\n",
       "       ['c o m b i n a c i ó n', \"k o m - b i - n a - ' s i ̯ o n\"],\n",
       "       ['i n i c i o', \"i - ' n i - s i ̯ o\"],\n",
       "       ['e d u c a c i ó n', \"e - ð u - k a - ' s i ̯ o n\"],\n",
       "       ['h a s t a', \"' a s - t a\"],\n",
       "       ['o j o', \"' o - h o\"],\n",
       "       ['c a s i', \"' k a - s i\"],\n",
       "       ['u s a r', \"u - ' s a ɾ\"],\n",
       "       ['f u n c i o n a r', \"f u n - s i ̯ o - ' n a ɾ\"],\n",
       "       ['c a n t a r', \"k a n - ' t a ɾ\"],\n",
       "       ['a y u d a', \"a - ' j u - ð a\"],\n",
       "       ['h o m b r e', \"' o m - b ɾ e\"],\n",
       "       ['e s t á', \"e s - ' t a\"],\n",
       "       ['s a b e', \"' s a - β e\"],\n",
       "       ['o p o r t u n i d a d', \"o - p o ɾ - t u - n i - ' ð a ð\"],\n",
       "       ['t o q u e', \"' t o - k e\"],\n",
       "       ['é l', \"' e l\"],\n",
       "       ['s u', \"' s u\"],\n",
       "       ['h e r m a n a', \"e ɾ - ' m a - n a\"],\n",
       "       ['e s t a', \"' e s - t a\"],\n",
       "       ['t a z a', \"' t a - s a\"],\n",
       "       ['i m p o r t a n t e', \"i m - p o ɾ - ' t a n - t e\"],\n",
       "       ['q u é', \"' k e\"],\n",
       "       ['e l', \"' e l\"],\n",
       "       ['t a n t o', \"' t a n - t o\"],\n",
       "       ['s o n', \"' s o n\"],\n",
       "       ['m a s a', \"' m a - s a\"],\n",
       "       ['d i e z', \"' d i ̯ e s\"],\n",
       "       ['e s o', \"' e - s o\"],\n",
       "       ['é x i t o', \"' e k - s i - t o\"],\n",
       "       ['e x t r a', \"' e k s - t ɾ a\"],\n",
       "       ['m i e d o', \"' m i ̯ e - ð o\"],\n",
       "       ['v o y', \"' β o i ̯\"],\n",
       "       ['l e í', \"l e - ' i\"],\n",
       "       ['p o e m a', \"p o - ' e - m a\"],\n",
       "       ['s e a', \"' s e - a\"],\n",
       "       ['a é r e o', \"a - ' e - ɾ e - o\"],\n",
       "       ['d í a', \"' d i - a\"],\n",
       "       ['l e e r', \"l e - ' e ɾ\"],\n",
       "       ['t r a e', \"' t ɾ a - e\"],\n",
       "       ['l e y', \"' l e i ̯\"],\n",
       "       ['o í', \"o - ' i\"],\n",
       "       ['h o y', \"' o i ̯\"],\n",
       "       ['r e í', \"r e - ' i\"],\n",
       "       ['r e y', \"' r e i ̯\"],\n",
       "       ['d i a r i o', \"' d i ̯ a - ɾ i ̯ o\"],\n",
       "       ['S a ú l', \"s a - ' u l\"],\n",
       "       ['P a u l a', \"' p a u ̯ - l a\"],\n",
       "       ['o í d o', \"o - ' i - ð o\"],\n",
       "       ['o i g o', \"' o i ̯ - ɣ o\"],\n",
       "       ['m i', \"' m i\"],\n",
       "       ['t u', \"' t u\"],\n",
       "       ['L o l a', \"' l o - l a\"],\n",
       "       ['l e', \"' l e\"],\n",
       "       ['s o n r í e', \"s o n - ' ɾ i - e\"],\n",
       "       ['p a t r ó n', \"p a - ' t ɾ o n\"],\n",
       "       ['a l t o', 'a l - t o'],\n",
       "       ['y o', \"' ʝ o\"],\n",
       "       ['h u e r t a', \"' w e ɾ - t a\"],\n",
       "       ['h u é s p e d', \"' w e s - p e ð\"],\n",
       "       ['c a r a', 'k a - ɾ a'],\n",
       "       ['c a d a', 'k a - ð a'],\n",
       "       ['s i e s t a', \"' s i ̯ e s - t a\"],\n",
       "       ['c a r o', \"' k a - ɾ o\"],\n",
       "       ['c a r r o', \"' k a - r o\"],\n",
       "       ['t o r o', \"' t o - ɾ o\"],\n",
       "       ['e x i s t i r', \"e k - s i s - ' t i ɾ\"],\n",
       "       ['t e n g o', \"' t e ŋ - g o\"],\n",
       "       ['t e n e r', \"t e - ' n e ɾ\"],\n",
       "       ['l l a v e', \"' ʝ a - β e\"],\n",
       "       ['l i b r e', \"' l i - β ɾ e\"],\n",
       "       ['c a l l e', \"' k a - ʝ e\"]], dtype='<U31')"
      ]
     },
     "execution_count": 114,
     "metadata": {},
     "output_type": "execute_result"
    }
   ],
   "source": [
    "ipa_array_clean"
   ]
  },
  {
   "cell_type": "code",
   "execution_count": 125,
   "metadata": {},
   "outputs": [],
   "source": [
    "def tokenization(lines):\n",
    "    # explicitly add filters to assure hyphens and apostrophes are not removed\n",
    "    tokenizer = keras.preprocessing.text.Tokenizer(filters='!\"#$%&()*+,/:;<=>?@[\\\\]^_`{|}~\\t\\n')\n",
    "    tokenizer.fit_on_texts(lines)\n",
    "    return tokenizer"
   ]
  },
  {
   "cell_type": "code",
   "execution_count": 126,
   "metadata": {},
   "outputs": [],
   "source": [
    "span_orth_tokenizer = tokenization(ipa_array_clean[:, 0])\n",
    "span_orth_vocab_size = len(span_orth_tokenizer.word_index) + 1"
   ]
  },
  {
   "cell_type": "code",
   "execution_count": 127,
   "metadata": {},
   "outputs": [],
   "source": [
    "ipa_tokenizer = tokenization(ipa_array_clean[:, 1])\n",
    "ipa_vocab_size = len(ipa_tokenizer.word_index) + 1"
   ]
  },
  {
   "cell_type": "code",
   "execution_count": 128,
   "metadata": {},
   "outputs": [
    {
     "data": {
      "text/plain": [
       "{'a': 1,\n",
       " 'e': 2,\n",
       " 'o': 3,\n",
       " 'r': 4,\n",
       " 't': 5,\n",
       " 'i': 6,\n",
       " 's': 7,\n",
       " 'n': 8,\n",
       " 'l': 9,\n",
       " 'c': 10,\n",
       " 'u': 11,\n",
       " 'd': 12,\n",
       " 'm': 13,\n",
       " 'h': 14,\n",
       " 'y': 15,\n",
       " 'p': 16,\n",
       " 'í': 17,\n",
       " 'é': 18,\n",
       " 'b': 19,\n",
       " 'ó': 20,\n",
       " 'x': 21,\n",
       " 'q': 22,\n",
       " 'z': 23,\n",
       " 'v': 24,\n",
       " 'g': 25,\n",
       " 'j': 26,\n",
       " 'f': 27,\n",
       " 'á': 28,\n",
       " 'ú': 29}"
      ]
     },
     "execution_count": 128,
     "metadata": {},
     "output_type": "execute_result"
    }
   ],
   "source": [
    "span_orth_tokenizer.word_index"
   ]
  },
  {
   "cell_type": "code",
   "execution_count": 129,
   "metadata": {},
   "outputs": [
    {
     "data": {
      "text/plain": [
       "{'-': 1,\n",
       " \"'\": 2,\n",
       " 'a': 3,\n",
       " 'e': 4,\n",
       " 'o': 5,\n",
       " 'i': 6,\n",
       " 's': 7,\n",
       " 't': 8,\n",
       " 'ɾ': 9,\n",
       " 'n': 10,\n",
       " '̯': 11,\n",
       " 'k': 12,\n",
       " 'l': 13,\n",
       " 'u': 14,\n",
       " 'm': 15,\n",
       " 'ð': 16,\n",
       " 'p': 17,\n",
       " 'β': 18,\n",
       " 'd': 19,\n",
       " 'r': 20,\n",
       " 'ʝ': 21,\n",
       " 'b': 22,\n",
       " 'w': 23,\n",
       " 'h': 24,\n",
       " 'f': 25,\n",
       " 'j': 26,\n",
       " 'ɣ': 27,\n",
       " 'ŋ': 28,\n",
       " 'g': 29}"
      ]
     },
     "execution_count": 129,
     "metadata": {},
     "output_type": "execute_result"
    }
   ],
   "source": [
    "ipa_tokenizer.word_index"
   ]
  },
  {
   "cell_type": "code",
   "execution_count": 140,
   "metadata": {},
   "outputs": [],
   "source": [
    "def encode_sequences(tokenizer, length, lines):\n",
    "         # integer encode sequences\n",
    "         seq = tokenizer.texts_to_sequences(lines)\n",
    "         # pad sequences with 0 values\n",
    "         seq = keras.preprocessing.sequence.pad_sequences(seq, maxlen=length, padding='post')\n",
    "         return seq"
   ]
  },
  {
   "cell_type": "code",
   "execution_count": 141,
   "metadata": {},
   "outputs": [],
   "source": [
    "# break dataset into training and testing arrs\n",
    "train, test = train_test_split(ipa_array_clean, test_size=0.2, random_state = 12)\n"
   ]
  },
  {
   "cell_type": "code",
   "execution_count": 142,
   "metadata": {},
   "outputs": [],
   "source": [
    "span_length = 8\n",
    "ipa_length = 8"
   ]
  },
  {
   "cell_type": "code",
   "execution_count": 143,
   "metadata": {},
   "outputs": [],
   "source": [
    "trainX = encode_sequences(span_orth_tokenizer, span_length, train[:, 1])\n",
    "trainY = encode_sequences(ipa_tokenizer, ipa_length, train[:, 0])\n"
   ]
  },
  {
   "cell_type": "code",
   "execution_count": 146,
   "metadata": {},
   "outputs": [],
   "source": [
    "# prepare validation data\n",
    "testX = encode_sequences(span_orth_tokenizer, span_length, test[:, 1])\n",
    "testY = encode_sequences(ipa_tokenizer, ipa_length, test[:, 0])"
   ]
  },
  {
   "cell_type": "code",
   "execution_count": 156,
   "metadata": {},
   "outputs": [],
   "source": [
    "from tensorflow.keras.models import Sequential\n",
    "from tensorflow.keras.layers import Dense, LSTM, Embedding, RepeatVector\n",
    "from tensorflow.keras.callbacks import ModelCheckpoint\n",
    "from tensorflow.keras.models import load_model\n",
    "from keras import optimizers"
   ]
  },
  {
   "cell_type": "code",
   "execution_count": 152,
   "metadata": {},
   "outputs": [],
   "source": [
    "# build NMT model\n",
    "def define_model(in_vocab,out_vocab, in_timesteps,out_timesteps,units):\n",
    "      model = Sequential()\n",
    "      model.add(Embedding(in_vocab, units, input_length=in_timesteps, mask_zero=True))\n",
    "      model.add(LSTM(units))\n",
    "      model.add(RepeatVector(out_timesteps))\n",
    "      model.add(LSTM(units, return_sequences=True))\n",
    "      model.add(Dense(out_vocab, activation='softmax'))\n",
    "      return model"
   ]
  },
  {
   "cell_type": "code",
   "execution_count": 158,
   "metadata": {},
   "outputs": [],
   "source": [
    "# model compilation\n",
    "model = define_model(span_orth_vocab_size, ipa_vocab_size, span_length, ipa_length, 512)\n",
    "rms = optimizers.RMSprop(learning_rate=0.001)\n",
    "model.compile(optimizer=rms, loss='sparse_categorical_crossentropy')"
   ]
  },
  {
   "cell_type": "code",
   "execution_count": 159,
   "metadata": {},
   "outputs": [],
   "source": [
    "filename = 'model.h1.24_jan_19'\n",
    "checkpoint = ModelCheckpoint(filename, monitor='val_loss', verbose=1, save_best_only=True, mode='min')"
   ]
  },
  {
   "cell_type": "code",
   "execution_count": 160,
   "metadata": {},
   "outputs": [
    {
     "name": "stdout",
     "output_type": "stream",
     "text": [
      "Epoch 1/30\n",
      "1/1 [==============================] - ETA: 0s - loss: 3.4018\n",
      "Epoch 1: val_loss improved from inf to 3.22329, saving model to model.h1.24_jan_19\n"
     ]
    },
    {
     "name": "stderr",
     "output_type": "stream",
     "text": [
      "WARNING:absl:Found untraced functions such as lstm_cell_6_layer_call_fn, lstm_cell_6_layer_call_and_return_conditional_losses, lstm_cell_7_layer_call_fn, lstm_cell_7_layer_call_and_return_conditional_losses while saving (showing 4 of 4). These functions will not be directly callable after loading.\n"
     ]
    },
    {
     "name": "stdout",
     "output_type": "stream",
     "text": [
      "INFO:tensorflow:Assets written to: model.h1.24_jan_19/assets\n"
     ]
    },
    {
     "name": "stderr",
     "output_type": "stream",
     "text": [
      "INFO:tensorflow:Assets written to: model.h1.24_jan_19/assets\n"
     ]
    },
    {
     "name": "stdout",
     "output_type": "stream",
     "text": [
      "1/1 [==============================] - 10s 10s/step - loss: 3.4018 - val_loss: 3.2233\n",
      "Epoch 2/30\n",
      "1/1 [==============================] - ETA: 0s - loss: 3.2197\n",
      "Epoch 2: val_loss improved from 3.22329 to 2.12570, saving model to model.h1.24_jan_19\n"
     ]
    },
    {
     "name": "stderr",
     "output_type": "stream",
     "text": [
      "WARNING:absl:Found untraced functions such as lstm_cell_6_layer_call_fn, lstm_cell_6_layer_call_and_return_conditional_losses, lstm_cell_7_layer_call_fn, lstm_cell_7_layer_call_and_return_conditional_losses while saving (showing 4 of 4). These functions will not be directly callable after loading.\n"
     ]
    },
    {
     "name": "stdout",
     "output_type": "stream",
     "text": [
      "INFO:tensorflow:Assets written to: model.h1.24_jan_19/assets\n"
     ]
    },
    {
     "name": "stderr",
     "output_type": "stream",
     "text": [
      "INFO:tensorflow:Assets written to: model.h1.24_jan_19/assets\n"
     ]
    },
    {
     "name": "stdout",
     "output_type": "stream",
     "text": [
      "1/1 [==============================] - 7s 7s/step - loss: 3.2197 - val_loss: 2.1257\n",
      "Epoch 3/30\n",
      "1/1 [==============================] - ETA: 0s - loss: 2.2486\n",
      "Epoch 3: val_loss did not improve from 2.12570\n",
      "1/1 [==============================] - 0s 221ms/step - loss: 2.2486 - val_loss: 2.9173\n",
      "Epoch 4/30\n",
      "1/1 [==============================] - ETA: 0s - loss: 2.8868\n",
      "Epoch 4: val_loss improved from 2.12570 to 1.85373, saving model to model.h1.24_jan_19\n"
     ]
    },
    {
     "name": "stderr",
     "output_type": "stream",
     "text": [
      "WARNING:absl:Found untraced functions such as lstm_cell_6_layer_call_fn, lstm_cell_6_layer_call_and_return_conditional_losses, lstm_cell_7_layer_call_fn, lstm_cell_7_layer_call_and_return_conditional_losses while saving (showing 4 of 4). These functions will not be directly callable after loading.\n"
     ]
    },
    {
     "name": "stdout",
     "output_type": "stream",
     "text": [
      "INFO:tensorflow:Assets written to: model.h1.24_jan_19/assets\n"
     ]
    },
    {
     "name": "stderr",
     "output_type": "stream",
     "text": [
      "INFO:tensorflow:Assets written to: model.h1.24_jan_19/assets\n"
     ]
    },
    {
     "name": "stdout",
     "output_type": "stream",
     "text": [
      "1/1 [==============================] - 6s 6s/step - loss: 2.8868 - val_loss: 1.8537\n",
      "Epoch 5/30\n",
      "1/1 [==============================] - ETA: 0s - loss: 1.8659\n",
      "Epoch 5: val_loss improved from 1.85373 to 1.82648, saving model to model.h1.24_jan_19\n"
     ]
    },
    {
     "name": "stderr",
     "output_type": "stream",
     "text": [
      "WARNING:absl:Found untraced functions such as lstm_cell_6_layer_call_fn, lstm_cell_6_layer_call_and_return_conditional_losses, lstm_cell_7_layer_call_fn, lstm_cell_7_layer_call_and_return_conditional_losses while saving (showing 4 of 4). These functions will not be directly callable after loading.\n"
     ]
    },
    {
     "name": "stdout",
     "output_type": "stream",
     "text": [
      "INFO:tensorflow:Assets written to: model.h1.24_jan_19/assets\n"
     ]
    },
    {
     "name": "stderr",
     "output_type": "stream",
     "text": [
      "INFO:tensorflow:Assets written to: model.h1.24_jan_19/assets\n"
     ]
    },
    {
     "name": "stdout",
     "output_type": "stream",
     "text": [
      "1/1 [==============================] - 7s 7s/step - loss: 1.8659 - val_loss: 1.8265\n",
      "Epoch 6/30\n",
      "1/1 [==============================] - ETA: 0s - loss: 1.7948\n",
      "Epoch 6: val_loss improved from 1.82648 to 1.78783, saving model to model.h1.24_jan_19\n"
     ]
    },
    {
     "name": "stderr",
     "output_type": "stream",
     "text": [
      "WARNING:absl:Found untraced functions such as lstm_cell_6_layer_call_fn, lstm_cell_6_layer_call_and_return_conditional_losses, lstm_cell_7_layer_call_fn, lstm_cell_7_layer_call_and_return_conditional_losses while saving (showing 4 of 4). These functions will not be directly callable after loading.\n"
     ]
    },
    {
     "name": "stdout",
     "output_type": "stream",
     "text": [
      "INFO:tensorflow:Assets written to: model.h1.24_jan_19/assets\n"
     ]
    },
    {
     "name": "stderr",
     "output_type": "stream",
     "text": [
      "INFO:tensorflow:Assets written to: model.h1.24_jan_19/assets\n"
     ]
    },
    {
     "name": "stdout",
     "output_type": "stream",
     "text": [
      "1/1 [==============================] - 7s 7s/step - loss: 1.7948 - val_loss: 1.7878\n",
      "Epoch 7/30\n",
      "1/1 [==============================] - ETA: 0s - loss: 1.8104\n",
      "Epoch 7: val_loss did not improve from 1.78783\n",
      "1/1 [==============================] - 0s 220ms/step - loss: 1.8104 - val_loss: 2.1103\n",
      "Epoch 8/30\n",
      "1/1 [==============================] - ETA: 0s - loss: 1.9774\n",
      "Epoch 8: val_loss did not improve from 1.78783\n",
      "1/1 [==============================] - 0s 194ms/step - loss: 1.9774 - val_loss: 1.8525\n",
      "Epoch 9/30\n",
      "1/1 [==============================] - ETA: 0s - loss: 1.8617\n",
      "Epoch 9: val_loss did not improve from 1.78783\n",
      "1/1 [==============================] - 0s 231ms/step - loss: 1.8617 - val_loss: 1.8149\n",
      "Epoch 10/30\n",
      "1/1 [==============================] - ETA: 0s - loss: 1.7122\n",
      "Epoch 10: val_loss improved from 1.78783 to 1.69125, saving model to model.h1.24_jan_19\n"
     ]
    },
    {
     "name": "stderr",
     "output_type": "stream",
     "text": [
      "WARNING:absl:Found untraced functions such as lstm_cell_6_layer_call_fn, lstm_cell_6_layer_call_and_return_conditional_losses, lstm_cell_7_layer_call_fn, lstm_cell_7_layer_call_and_return_conditional_losses while saving (showing 4 of 4). These functions will not be directly callable after loading.\n"
     ]
    },
    {
     "name": "stdout",
     "output_type": "stream",
     "text": [
      "INFO:tensorflow:Assets written to: model.h1.24_jan_19/assets\n"
     ]
    },
    {
     "name": "stderr",
     "output_type": "stream",
     "text": [
      "INFO:tensorflow:Assets written to: model.h1.24_jan_19/assets\n"
     ]
    },
    {
     "name": "stdout",
     "output_type": "stream",
     "text": [
      "1/1 [==============================] - 7s 7s/step - loss: 1.7122 - val_loss: 1.6912\n",
      "Epoch 11/30\n",
      "1/1 [==============================] - ETA: 0s - loss: 1.6363\n",
      "Epoch 11: val_loss did not improve from 1.69125\n",
      "1/1 [==============================] - 0s 241ms/step - loss: 1.6363 - val_loss: 1.7310\n",
      "Epoch 12/30\n",
      "1/1 [==============================] - ETA: 0s - loss: 1.5920\n",
      "Epoch 12: val_loss improved from 1.69125 to 1.64914, saving model to model.h1.24_jan_19\n"
     ]
    },
    {
     "name": "stderr",
     "output_type": "stream",
     "text": [
      "WARNING:absl:Found untraced functions such as lstm_cell_6_layer_call_fn, lstm_cell_6_layer_call_and_return_conditional_losses, lstm_cell_7_layer_call_fn, lstm_cell_7_layer_call_and_return_conditional_losses while saving (showing 4 of 4). These functions will not be directly callable after loading.\n"
     ]
    },
    {
     "name": "stdout",
     "output_type": "stream",
     "text": [
      "INFO:tensorflow:Assets written to: model.h1.24_jan_19/assets\n"
     ]
    },
    {
     "name": "stderr",
     "output_type": "stream",
     "text": [
      "INFO:tensorflow:Assets written to: model.h1.24_jan_19/assets\n"
     ]
    },
    {
     "name": "stdout",
     "output_type": "stream",
     "text": [
      "1/1 [==============================] - 6s 6s/step - loss: 1.5920 - val_loss: 1.6491\n",
      "Epoch 13/30\n",
      "1/1 [==============================] - ETA: 0s - loss: 1.5662\n",
      "Epoch 13: val_loss did not improve from 1.64914\n",
      "1/1 [==============================] - 0s 229ms/step - loss: 1.5662 - val_loss: 1.8350\n",
      "Epoch 14/30\n",
      "1/1 [==============================] - ETA: 0s - loss: 1.5529\n",
      "Epoch 14: val_loss did not improve from 1.64914\n",
      "1/1 [==============================] - 0s 199ms/step - loss: 1.5529 - val_loss: 1.6972\n",
      "Epoch 15/30\n",
      "1/1 [==============================] - ETA: 0s - loss: 1.6115\n",
      "Epoch 15: val_loss did not improve from 1.64914\n",
      "1/1 [==============================] - 0s 200ms/step - loss: 1.6115 - val_loss: 1.8160\n",
      "Epoch 16/30\n",
      "1/1 [==============================] - ETA: 0s - loss: 1.6040\n",
      "Epoch 16: val_loss improved from 1.64914 to 1.64597, saving model to model.h1.24_jan_19\n"
     ]
    },
    {
     "name": "stderr",
     "output_type": "stream",
     "text": [
      "WARNING:absl:Found untraced functions such as lstm_cell_6_layer_call_fn, lstm_cell_6_layer_call_and_return_conditional_losses, lstm_cell_7_layer_call_fn, lstm_cell_7_layer_call_and_return_conditional_losses while saving (showing 4 of 4). These functions will not be directly callable after loading.\n"
     ]
    },
    {
     "name": "stdout",
     "output_type": "stream",
     "text": [
      "INFO:tensorflow:Assets written to: model.h1.24_jan_19/assets\n"
     ]
    },
    {
     "name": "stderr",
     "output_type": "stream",
     "text": [
      "INFO:tensorflow:Assets written to: model.h1.24_jan_19/assets\n"
     ]
    },
    {
     "name": "stdout",
     "output_type": "stream",
     "text": [
      "1/1 [==============================] - 7s 7s/step - loss: 1.6040 - val_loss: 1.6460\n",
      "Epoch 17/30\n",
      "1/1 [==============================] - ETA: 0s - loss: 1.5949\n",
      "Epoch 17: val_loss did not improve from 1.64597\n",
      "1/1 [==============================] - 0s 219ms/step - loss: 1.5949 - val_loss: 2.0220\n",
      "Epoch 18/30\n",
      "1/1 [==============================] - ETA: 0s - loss: 1.5668\n",
      "Epoch 18: val_loss did not improve from 1.64597\n",
      "1/1 [==============================] - 0s 211ms/step - loss: 1.5668 - val_loss: 1.6670\n",
      "Epoch 19/30\n",
      "1/1 [==============================] - ETA: 0s - loss: 1.5361\n",
      "Epoch 19: val_loss improved from 1.64597 to 1.63385, saving model to model.h1.24_jan_19\n"
     ]
    },
    {
     "name": "stderr",
     "output_type": "stream",
     "text": [
      "WARNING:absl:Found untraced functions such as lstm_cell_6_layer_call_fn, lstm_cell_6_layer_call_and_return_conditional_losses, lstm_cell_7_layer_call_fn, lstm_cell_7_layer_call_and_return_conditional_losses while saving (showing 4 of 4). These functions will not be directly callable after loading.\n"
     ]
    },
    {
     "name": "stdout",
     "output_type": "stream",
     "text": [
      "INFO:tensorflow:Assets written to: model.h1.24_jan_19/assets\n"
     ]
    },
    {
     "name": "stderr",
     "output_type": "stream",
     "text": [
      "INFO:tensorflow:Assets written to: model.h1.24_jan_19/assets\n"
     ]
    },
    {
     "name": "stdout",
     "output_type": "stream",
     "text": [
      "1/1 [==============================] - 7s 7s/step - loss: 1.5361 - val_loss: 1.6339\n",
      "Epoch 20/30\n",
      "1/1 [==============================] - ETA: 0s - loss: 1.4425\n",
      "Epoch 20: val_loss improved from 1.63385 to 1.57613, saving model to model.h1.24_jan_19\n"
     ]
    },
    {
     "name": "stderr",
     "output_type": "stream",
     "text": [
      "WARNING:absl:Found untraced functions such as lstm_cell_6_layer_call_fn, lstm_cell_6_layer_call_and_return_conditional_losses, lstm_cell_7_layer_call_fn, lstm_cell_7_layer_call_and_return_conditional_losses while saving (showing 4 of 4). These functions will not be directly callable after loading.\n"
     ]
    },
    {
     "name": "stdout",
     "output_type": "stream",
     "text": [
      "INFO:tensorflow:Assets written to: model.h1.24_jan_19/assets\n"
     ]
    },
    {
     "name": "stderr",
     "output_type": "stream",
     "text": [
      "INFO:tensorflow:Assets written to: model.h1.24_jan_19/assets\n"
     ]
    },
    {
     "name": "stdout",
     "output_type": "stream",
     "text": [
      "1/1 [==============================] - 7s 7s/step - loss: 1.4425 - val_loss: 1.5761\n",
      "Epoch 21/30\n",
      "1/1 [==============================] - ETA: 0s - loss: 1.4066\n",
      "Epoch 21: val_loss did not improve from 1.57613\n",
      "1/1 [==============================] - 0s 207ms/step - loss: 1.4066 - val_loss: 1.7186\n",
      "Epoch 22/30\n",
      "1/1 [==============================] - ETA: 0s - loss: 1.3683\n",
      "Epoch 22: val_loss did not improve from 1.57613\n",
      "1/1 [==============================] - 0s 209ms/step - loss: 1.3683 - val_loss: 1.5862\n",
      "Epoch 23/30\n",
      "1/1 [==============================] - ETA: 0s - loss: 1.3724\n",
      "Epoch 23: val_loss did not improve from 1.57613\n",
      "1/1 [==============================] - 0s 204ms/step - loss: 1.3724 - val_loss: 1.8632\n",
      "Epoch 24/30\n",
      "1/1 [==============================] - ETA: 0s - loss: 1.3948\n",
      "Epoch 24: val_loss did not improve from 1.57613\n",
      "1/1 [==============================] - 0s 183ms/step - loss: 1.3948 - val_loss: 1.6715\n",
      "Epoch 25/30\n",
      "1/1 [==============================] - ETA: 0s - loss: 1.5057\n",
      "Epoch 25: val_loss did not improve from 1.57613\n",
      "1/1 [==============================] - 0s 184ms/step - loss: 1.5057 - val_loss: 1.7569\n",
      "Epoch 26/30\n",
      "1/1 [==============================] - ETA: 0s - loss: 1.3482\n",
      "Epoch 26: val_loss did not improve from 1.57613\n",
      "1/1 [==============================] - 0s 179ms/step - loss: 1.3482 - val_loss: 1.5981\n",
      "Epoch 27/30\n",
      "1/1 [==============================] - ETA: 0s - loss: 1.2952\n",
      "Epoch 27: val_loss did not improve from 1.57613\n",
      "1/1 [==============================] - 0s 185ms/step - loss: 1.2952 - val_loss: 1.7544\n",
      "Epoch 28/30\n",
      "1/1 [==============================] - ETA: 0s - loss: 1.2433\n",
      "Epoch 28: val_loss did not improve from 1.57613\n",
      "1/1 [==============================] - 0s 183ms/step - loss: 1.2433 - val_loss: 1.5991\n",
      "Epoch 29/30\n",
      "1/1 [==============================] - ETA: 0s - loss: 1.2421\n",
      "Epoch 29: val_loss did not improve from 1.57613\n",
      "1/1 [==============================] - 0s 179ms/step - loss: 1.2421 - val_loss: 1.8522\n",
      "Epoch 30/30\n",
      "1/1 [==============================] - ETA: 0s - loss: 1.2430\n",
      "Epoch 30: val_loss did not improve from 1.57613\n",
      "1/1 [==============================] - 0s 184ms/step - loss: 1.2430 - val_loss: 1.6494\n"
     ]
    }
   ],
   "source": [
    "# train model\n",
    "history = model.fit(trainX, trainY.reshape(trainY.shape[0], trainY.shape[1], 1),\n",
    "                    epochs=30, batch_size=512, validation_split = 0.2,callbacks=[checkpoint], \n",
    "                    verbose=1)"
   ]
  },
  {
   "cell_type": "code",
   "execution_count": 161,
   "metadata": {},
   "outputs": [
    {
     "data": {
      "image/png": "[encoded data removed]",
      "text/plain": [
       "<Figure size 640x480 with 1 Axes>"
      ]
     },
     "metadata": {},
     "output_type": "display_data"
    }
   ],
   "source": [
    "plt.plot(history.history['loss'])\n",
    "plt.plot(history.history['val_loss'])\n",
    "plt.legend(['train','validation'])\n",
    "plt.show()"
   ]
  },
  {
   "cell_type": "code",
   "execution_count": 168,
   "metadata": {},
   "outputs": [
    {
     "data": {
      "text/plain": [
       "dict_items([('a', 1), ('e', 2), ('o', 3), ('r', 4), ('t', 5), ('i', 6), ('s', 7), ('n', 8), ('l', 9), ('c', 10), ('u', 11), ('d', 12), ('m', 13), ('h', 14), ('y', 15), ('p', 16), ('í', 17), ('é', 18), ('b', 19), ('ó', 20), ('x', 21), ('q', 22), ('z', 23), ('v', 24), ('g', 25), ('j', 26), ('f', 27), ('á', 28), ('ú', 29)])"
      ]
     },
     "execution_count": 168,
     "metadata": {},
     "output_type": "execute_result"
    }
   ],
   "source": [
    "span_orth_tokenizer.word_index.items()"
   ]
  },
  {
   "cell_type": "code",
   "execution_count": 181,
   "metadata": {},
   "outputs": [],
   "source": [
    "def get_word(n, tokenizer):\n",
    "    for word, index in tokenizer.word_index.items():\n",
    "        print(word)\n",
    "        print(index)\n",
    "        if index == n:\n",
    "            return word\n",
    "        return None"
   ]
  },
  {
   "cell_type": "code",
   "execution_count": 177,
   "metadata": {},
   "outputs": [
    {
     "name": "stderr",
     "output_type": "stream",
     "text": [
      "2023-03-09 08:32:40.710022: W tensorflow/core/common_runtime/graph_constructor.cc:805] Node 'cond/while' has 13 outputs but the _output_shapes attribute specifies shapes for 46 outputs. Output shapes may be inaccurate.\n",
      "2023-03-09 08:32:40.952778: W tensorflow/core/common_runtime/graph_constructor.cc:805] Node 'cond/while' has 13 outputs but the _output_shapes attribute specifies shapes for 46 outputs. Output shapes may be inaccurate.\n",
      "2023-03-09 08:32:40.964419: W tensorflow/core/common_runtime/graph_constructor.cc:805] Node 'cond' has 5 outputs but the _output_shapes attribute specifies shapes for 46 outputs. Output shapes may be inaccurate.\n",
      "2023-03-09 08:32:41.046944: W tensorflow/core/common_runtime/graph_constructor.cc:805] Node 'cond/while' has 13 outputs but the _output_shapes attribute specifies shapes for 46 outputs. Output shapes may be inaccurate.\n",
      "2023-03-09 08:32:41.123871: W tensorflow/core/common_runtime/graph_constructor.cc:805] Node 'cond/while' has 13 outputs but the _output_shapes attribute specifies shapes for 46 outputs. Output shapes may be inaccurate.\n",
      "2023-03-09 08:32:41.133433: W tensorflow/core/common_runtime/graph_constructor.cc:805] Node 'cond' has 5 outputs but the _output_shapes attribute specifies shapes for 46 outputs. Output shapes may be inaccurate.\n",
      "2023-03-09 08:32:41.227724: W tensorflow/core/common_runtime/graph_constructor.cc:805] Node 'cond' has 5 outputs but the _output_shapes attribute specifies shapes for 46 outputs. Output shapes may be inaccurate.\n",
      "2023-03-09 08:32:41.527980: W tensorflow/core/common_runtime/graph_constructor.cc:805] Node 'cond/while' has 13 outputs but the _output_shapes attribute specifies shapes for 46 outputs. Output shapes may be inaccurate.\n",
      "2023-03-09 08:32:41.538603: W tensorflow/core/common_runtime/graph_constructor.cc:805] Node 'cond' has 5 outputs but the _output_shapes attribute specifies shapes for 46 outputs. Output shapes may be inaccurate.\n",
      "2023-03-09 08:32:42.023227: W tensorflow/core/common_runtime/graph_constructor.cc:805] Node 'cond/while' has 13 outputs but the _output_shapes attribute specifies shapes for 46 outputs. Output shapes may be inaccurate.\n",
      "2023-03-09 08:32:42.034673: W tensorflow/core/common_runtime/graph_constructor.cc:805] Node 'cond' has 5 outputs but the _output_shapes attribute specifies shapes for 46 outputs. Output shapes may be inaccurate.\n",
      "2023-03-09 08:32:42.400294: W tensorflow/core/common_runtime/graph_constructor.cc:805] Node 'cond/while' has 13 outputs but the _output_shapes attribute specifies shapes for 46 outputs. Output shapes may be inaccurate.\n",
      "2023-03-09 08:32:42.411770: W tensorflow/core/common_runtime/graph_constructor.cc:805] Node 'cond' has 5 outputs but the _output_shapes attribute specifies shapes for 46 outputs. Output shapes may be inaccurate.\n",
      "2023-03-09 08:32:42.692735: W tensorflow/core/common_runtime/graph_constructor.cc:805] Node 'cond' has 5 outputs but the _output_shapes attribute specifies shapes for 46 outputs. Output shapes may be inaccurate.\n"
     ]
    },
    {
     "name": "stdout",
     "output_type": "stream",
     "text": [
      "1/1 [==============================] - 1s 824ms/step\n"
     ]
    }
   ],
   "source": [
    "model = load_model('model.h1.24_jan_19')\n",
    "preds = model.predict(testX.reshape((testX.shape[0],testX.shape[1])))\n"
   ]
  },
  {
   "cell_type": "code",
   "execution_count": 180,
   "metadata": {},
   "outputs": [
    {
     "data": {
      "text/plain": [
       "array([[6.15835078e-02, 2.05350462e-02, 2.10810229e-02, 7.95980096e-02,\n",
       "        5.74750192e-02, 4.38120849e-02, 3.91941927e-02, 5.57049736e-02,\n",
       "        5.53096645e-02, 1.90660134e-02, 3.21168266e-02, 2.21119784e-02,\n",
       "        2.17514429e-02, 3.98641042e-02, 3.43126282e-02, 3.59164812e-02,\n",
       "        2.20789015e-02, 2.50261594e-02, 2.08719224e-02, 3.62056419e-02,\n",
       "        5.36756516e-02, 2.00752616e-02, 2.65462305e-02, 1.99329648e-02,\n",
       "        2.80079413e-02, 2.15073563e-02, 2.27688290e-02, 2.18607634e-02,\n",
       "        2.13165805e-02, 2.06928868e-02],\n",
       "       [1.36049747e-01, 7.33420951e-03, 7.79055431e-03, 1.55844525e-01,\n",
       "        8.42928663e-02, 5.31577431e-02, 3.60135585e-02, 7.13009238e-02,\n",
       "        8.07762966e-02, 6.08034572e-03, 2.80813985e-02, 8.80315900e-03,\n",
       "        8.39284156e-03, 3.53672095e-02, 2.48719640e-02, 2.99631059e-02,\n",
       "        8.83443188e-03, 1.16687426e-02, 7.53916986e-03, 3.36202309e-02,\n",
       "        8.04833844e-02, 7.13542197e-03, 1.52884880e-02, 6.88690599e-03,\n",
       "        1.31452782e-02, 8.05840921e-03, 9.31541994e-03, 8.46816413e-03,\n",
       "        8.09755735e-03, 7.33793527e-03],\n",
       "       [3.24679643e-01, 1.10268220e-03, 1.20590837e-03, 1.91336006e-01,\n",
       "        8.24465305e-02, 4.94106933e-02, 2.22502090e-02, 5.19570149e-02,\n",
       "        8.00285116e-02, 8.08105571e-04, 1.92316063e-02, 1.51887198e-03,\n",
       "        1.37894705e-03, 1.79931801e-02, 9.55817383e-03, 1.50704104e-02,\n",
       "        1.56098267e-03, 2.52540945e-03, 1.15735526e-03, 2.12778468e-02,\n",
       "        8.71497318e-02, 1.11119030e-03, 4.88947518e-03, 9.94254602e-04,\n",
       "        2.57644965e-03, 1.29546877e-03, 1.64465571e-03, 1.38861442e-03,\n",
       "        1.37441559e-03, 1.07763638e-03],\n",
       "       [6.77143097e-01, 8.11272330e-05, 8.50257202e-05, 1.07041448e-01,\n",
       "        4.07743677e-02, 2.85352413e-02, 8.97780433e-03, 1.68296751e-02,\n",
       "        3.95286456e-02, 5.57818130e-05, 1.00449407e-02, 1.24850703e-04,\n",
       "        1.08878019e-04, 4.75088693e-03, 1.90713489e-03, 4.12524724e-03,\n",
       "        1.36480448e-04, 2.70229735e-04, 8.74095495e-05, 8.25211965e-03,\n",
       "        4.93487418e-02, 8.56255137e-05, 8.68265342e-04, 6.99554585e-05,\n",
       "        2.27336961e-04, 1.02534286e-04, 1.36520277e-04, 1.06500702e-04,\n",
       "        1.18290052e-04, 7.58456808e-05],\n",
       "       [9.06961858e-01, 5.92300057e-06, 5.43566557e-06, 3.03026214e-02,\n",
       "        1.10534569e-02, 1.07592633e-02, 2.91167852e-03, 3.05923796e-03,\n",
       "        1.04053123e-02, 4.10333769e-06, 4.58443444e-03, 9.39338497e-06,\n",
       "        8.07460856e-06, 8.49783828e-04, 3.03942652e-04, 8.05478892e-04,\n",
       "        1.12546822e-05, 2.46668878e-05, 6.37508992e-06, 2.35305191e-03,\n",
       "        1.53754381e-02, 6.32487536e-06, 1.31522800e-04, 4.93686957e-06,\n",
       "        1.65357560e-05, 7.58352644e-06, 1.01173255e-05, 7.47877448e-06,\n",
       "        9.55838641e-06, 5.14800467e-06],\n",
       "       [9.68201697e-01, 9.68213612e-07, 7.83458290e-07, 9.34121106e-03,\n",
       "        3.34435957e-03, 4.67378041e-03, 1.29731616e-03, 6.94071583e-04,\n",
       "        2.95208232e-03, 6.94175810e-07, 2.78990762e-03, 1.49797188e-06,\n",
       "        1.29694547e-06, 2.07621852e-04, 7.86722740e-05, 2.20956877e-04,\n",
       "        1.96461633e-06, 4.29466627e-06, 1.02085221e-06, 8.70108488e-04,\n",
       "        5.27064921e-03, 1.02801539e-06, 3.45734588e-05, 8.05881029e-07,\n",
       "        2.33330684e-06, 1.19919264e-06, 1.57468173e-06, 1.13240321e-06,\n",
       "        1.62660695e-06, 7.90712249e-07],\n",
       "       [9.83529508e-01, 3.52998740e-07, 2.70127998e-07, 4.22282796e-03,\n",
       "        1.49717741e-03, 2.80495198e-03, 8.48647789e-04, 2.56598694e-04,\n",
       "        1.21580798e-03, 2.61576190e-07, 2.29355274e-03, 5.29081149e-07,\n",
       "        4.65218164e-07, 8.47889314e-05, 3.61468810e-05, 9.85691004e-05,\n",
       "        7.47390231e-07, 1.55898215e-06, 3.65732433e-07, 4.69601975e-04,\n",
       "        2.61668279e-03, 3.69856565e-07, 1.67808848e-05, 3.02433534e-07,\n",
       "        7.21666311e-07, 4.29240885e-07, 5.43173599e-07, 3.83896690e-07,\n",
       "        6.04111563e-07, 2.81318933e-07],\n",
       "       [9.88421857e-01, 2.07870599e-07, 1.58697105e-07, 2.58836639e-03,\n",
       "        9.18099831e-04, 2.13340647e-03, 6.93804352e-04, 1.37959141e-04,\n",
       "        6.86810352e-04, 1.58608756e-07, 2.19023530e-03, 3.06758466e-07,\n",
       "        2.71321312e-07, 5.02796829e-05, 2.38428747e-05, 6.11642026e-05,\n",
       "        4.58060612e-07, 9.03674959e-07, 2.12897547e-07, 3.27330461e-04,\n",
       "        1.75032602e-03, 2.14143341e-07, 1.18701755e-05, 1.85502429e-07,\n",
       "        3.77068972e-07, 2.55263473e-07, 3.07172712e-07, 2.12809653e-07,\n",
       "        3.60707418e-07, 1.65691603e-07]], dtype=float32)"
      ]
     },
     "execution_count": 180,
     "metadata": {},
     "output_type": "execute_result"
    }
   ],
   "source": [
    "preds[1]"
   ]
  },
  {
   "cell_type": "code",
   "execution_count": 182,
   "metadata": {},
   "outputs": [
    {
     "name": "stdout",
     "output_type": "stream",
     "text": [
      "a\n",
      "1\n"
     ]
    },
    {
     "ename": "ValueError",
     "evalue": "The truth value of an array with more than one element is ambiguous. Use a.any() or a.all()",
     "output_type": "error",
     "traceback": [
      "\u001b[0;31m---------------------------------------------------------------------------\u001b[0m",
      "\u001b[0;31mValueError\u001b[0m                                Traceback (most recent call last)",
      "Cell \u001b[0;32mIn[182], line 5\u001b[0m\n\u001b[1;32m      3\u001b[0m temp \u001b[38;5;241m=\u001b[39m []\n\u001b[1;32m      4\u001b[0m \u001b[38;5;28;01mfor\u001b[39;00m j \u001b[38;5;129;01min\u001b[39;00m \u001b[38;5;28mrange\u001b[39m(\u001b[38;5;28mlen\u001b[39m(i)):\n\u001b[0;32m----> 5\u001b[0m     t \u001b[38;5;241m=\u001b[39m \u001b[43mget_word\u001b[49m\u001b[43m(\u001b[49m\u001b[43mi\u001b[49m\u001b[43m[\u001b[49m\u001b[43mj\u001b[49m\u001b[43m]\u001b[49m\u001b[43m,\u001b[49m\u001b[43m \u001b[49m\u001b[43mspan_orth_tokenizer\u001b[49m\u001b[43m)\u001b[49m\n\u001b[1;32m      6\u001b[0m     \u001b[38;5;28;01mif\u001b[39;00m j \u001b[38;5;241m>\u001b[39m \u001b[38;5;241m0\u001b[39m:\n\u001b[1;32m      7\u001b[0m         \u001b[38;5;28;01mif\u001b[39;00m (t \u001b[38;5;241m==\u001b[39m get_word(i[j\u001b[38;5;241m-\u001b[39m\u001b[38;5;241m1\u001b[39m], span_orth_tokenizer)) \u001b[38;5;129;01mor\u001b[39;00m (t \u001b[38;5;241m==\u001b[39m \u001b[38;5;28;01mNone\u001b[39;00m):\n",
      "Cell \u001b[0;32mIn[181], line 5\u001b[0m, in \u001b[0;36mget_word\u001b[0;34m(n, tokenizer)\u001b[0m\n\u001b[1;32m      3\u001b[0m \u001b[38;5;28mprint\u001b[39m(word)\n\u001b[1;32m      4\u001b[0m \u001b[38;5;28mprint\u001b[39m(index)\n\u001b[0;32m----> 5\u001b[0m \u001b[38;5;28;01mif\u001b[39;00m index \u001b[38;5;241m==\u001b[39m n:\n\u001b[1;32m      6\u001b[0m     \u001b[38;5;28;01mreturn\u001b[39;00m word\n\u001b[1;32m      7\u001b[0m \u001b[38;5;28;01mreturn\u001b[39;00m \u001b[38;5;28;01mNone\u001b[39;00m\n",
      "\u001b[0;31mValueError\u001b[0m: The truth value of an array with more than one element is ambiguous. Use a.any() or a.all()"
     ]
    }
   ],
   "source": [
    "preds_text = []\n",
    "for i in preds:\n",
    "    temp = []\n",
    "    for j in range(len(i)):\n",
    "        t = get_word(i[j], span_orth_tokenizer)\n",
    "        if j > 0:\n",
    "            if (t == get_word(i[j-1], span_orth_tokenizer)) or (t == None):\n",
    "                temp.append('')\n",
    "            else:\n",
    "                temp.append(t)\n",
    "        else:\n",
    "            if(t == None):\n",
    "                temp.append('')\n",
    "            else:\n",
    "                temp.append(t) \n",
    "    preds_text.append(' '.join(temp))"
   ]
  },
  {
   "cell_type": "code",
   "execution_count": null,
   "metadata": {},
   "outputs": [],
   "source": []
  },
  {
   "cell_type": "code",
   "execution_count": null,
   "metadata": {},
   "outputs": [],
   "source": []
  }
 ],
 "metadata": {
  "kernelspec": {
   "display_name": "Python 3 (ipykernel)",
   "language": "python",
   "name": "python3"
  },
  "language_info": {
   "codemirror_mode": {
    "name": "ipython",
    "version": 3
   },
   "file_extension": ".py",
   "mimetype": "text/x-python",
   "name": "python",
   "nbconvert_exporter": "python",
   "pygments_lexer": "ipython3",
   "version": "3.9.13"
  },
  "vscode": {
   "interpreter": {
    "hash": "094fe2711c494eb8fc3c7b741182af166b9f45fe91194cd803edd6afa02ef748"
   }
  }
 },
 "nbformat": 4,
 "nbformat_minor": 4
}
