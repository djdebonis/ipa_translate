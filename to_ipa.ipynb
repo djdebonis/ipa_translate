{
 "cells": [
  {
   "cell_type": "code",
   "execution_count": 1,
   "metadata": {},
   "outputs": [],
   "source": [
    "import pandas as pd"
   ]
  },
  {
   "cell_type": "code",
   "execution_count": 29,
   "metadata": {},
   "outputs": [],
   "source": [
    "import string\n",
    "import re\n",
    "import numpy as np\n",
    "import pandas as pd\n",
    "from tensorflow import keras\n",
    "%matplotlib inline\n",
    "pd.set_option('display.max_colwidth', 200)\n",
    "import matplotlib.pyplot as plt"
   ]
  },
  {
   "cell_type": "code",
   "execution_count": 34,
   "metadata": {},
   "outputs": [],
   "source": [
    "import_df = pd.read_csv(\"ipatest.csv\")\n",
    "import_df = import_df.dropna()"
   ]
  },
  {
   "cell_type": "code",
   "execution_count": 35,
   "metadata": {},
   "outputs": [],
   "source": [
    "ipa_array = np.array(import_df)"
   ]
  },
  {
   "cell_type": "code",
   "execution_count": 105,
   "metadata": {},
   "outputs": [
    {
     "data": {
      "text/plain": [
       "array([['hice', \"'i-se\"],\n",
       "       ['combinación', \"kom-bi-na-'si̯on\"],\n",
       "       ['inicio', \"i-'ni-si̯o\"],\n",
       "       ['educación', \"e-ðu-ka-'si̯on\"],\n",
       "       ['hasta', \"'as-ta\"],\n",
       "       ['ojo', \"'o-ho\"],\n",
       "       ['casi', \"'ka-si\"],\n",
       "       ['usar', \"u-'saɾ\"],\n",
       "       ['funcionar', \"fun-si̯o-'naɾ\"],\n",
       "       ['cantar', \"kan-'taɾ\"],\n",
       "       ['ayuda', \"a-'ju-ða\"],\n",
       "       ['hombre', \"'om-bɾe\"],\n",
       "       ['está', \"es-'ta\"],\n",
       "       ['sabe', \"'sa-βe\"],\n",
       "       ['oportunidad', \"o-poɾ-tu-ni-'ðað\"],\n",
       "       ['toque', \"'to-ke\"],\n",
       "       ['él', \"'el\"],\n",
       "       ['su', \"'su\"],\n",
       "       ['hermana', \"eɾ-'ma-na\"],\n",
       "       ['esta', \"'es-ta\"],\n",
       "       ['taza', \"'ta-sa\"],\n",
       "       ['importante', \"im-poɾ-'tan-te\"],\n",
       "       ['qué', \"'ke\"],\n",
       "       ['el', \"'el\"],\n",
       "       ['tanto', \"'tan-to\"],\n",
       "       ['son', \"'son\"],\n",
       "       ['masa', \"'ma-sa\"],\n",
       "       ['diez', \"'di̯es\"],\n",
       "       ['eso', \"'e-so\"],\n",
       "       ['éxito', \"'ek-si-to\"],\n",
       "       ['extra', \"'eks-tɾa\"],\n",
       "       ['miedo', \"'mi̯e-ðo\"],\n",
       "       ['voy', \"'βoi̯\"],\n",
       "       ['leí', \"le-'i\"],\n",
       "       ['poema', \"po-'e-ma\"],\n",
       "       ['sea', \"'se-a\"],\n",
       "       ['aéreo', \"a-'e-ɾe-o\"],\n",
       "       ['día', \"'di-a\"],\n",
       "       ['leer', \"le-'eɾ\"],\n",
       "       ['trae', \"'tɾa-e\"],\n",
       "       ['ley', \"'lei̯\"],\n",
       "       ['oí', \"o-'i\"],\n",
       "       ['hoy', \"'oi̯\"],\n",
       "       ['reí', \"re-'i\"],\n",
       "       ['rey', \"'rei̯\"],\n",
       "       ['diario', \"'di̯a-ɾi̯o\"],\n",
       "       ['Saúl', \"sa-'ul\"],\n",
       "       ['Paula', \"'pau̯-la\"],\n",
       "       ['oído', \"o-'i-ðo\"],\n",
       "       ['oigo', \"'oi̯-ɣo\"],\n",
       "       ['mi', \"'mi\"],\n",
       "       ['tu', \"'tu\"],\n",
       "       ['Lola', \"'lo-la\"],\n",
       "       ['le', \"'le\"],\n",
       "       ['sonríe', \"son-'ɾi-e\"],\n",
       "       ['patrón', \"pa-'tɾon\"],\n",
       "       ['alto', 'al-to'],\n",
       "       ['yo', \"'ʝo\"],\n",
       "       ['huerta', \"'weɾ-ta\"],\n",
       "       ['huésped', \"'wes-peð\"],\n",
       "       ['cara', 'ka-ɾa'],\n",
       "       ['cada', 'ka-ða'],\n",
       "       ['siesta', \"'si̯es-ta\"],\n",
       "       ['caro', \"'ka-ɾo\"],\n",
       "       ['carro', \"'ka-ro\"],\n",
       "       ['toro', \"'to-ɾo\"],\n",
       "       ['existir', \"ek-sis-'tiɾ\"],\n",
       "       ['tengo', \"'teŋ-go\"],\n",
       "       ['tener', \"te-'neɾ\"],\n",
       "       ['llave', \"'ʝa-βe\"],\n",
       "       ['libre', \"'li-βɾe\"],\n",
       "       ['calle', \"'ka-ʝe\"]], dtype=object)"
      ]
     },
     "execution_count": 105,
     "metadata": {},
     "output_type": "execute_result"
    }
   ],
   "source": [
    "ipa_array[0:]"
   ]
  },
  {
   "cell_type": "markdown",
   "metadata": {},
   "source": [
    "## In this dataset, the x axis is the Spanish word, the y axis is the ipa transcription with the accents and syllable breaks"
   ]
  },
  {
   "cell_type": "markdown",
   "metadata": {},
   "source": [
    "## Let's get a better idea of what the string data actually looks like:"
   ]
  },
  {
   "cell_type": "code",
   "execution_count": 106,
   "metadata": {},
   "outputs": [
    {
     "name": "stdout",
     "output_type": "stream",
     "text": [
      "Spanish Word:  diario\n",
      "0 d\n",
      "1 i\n",
      "2 a\n",
      "3 r\n",
      "4 i\n",
      "5 o\n"
     ]
    }
   ],
   "source": [
    "# first, let's grab one of the Spanish words\n",
    "spanish_word = ipa_array[45][0]\n",
    "print(\"Spanish Word: \", spanish_word)\n",
    "for i,e in enumerate(spanish_word):\n",
    "    print(i, e)"
   ]
  },
  {
   "cell_type": "code",
   "execution_count": 107,
   "metadata": {},
   "outputs": [
    {
     "name": "stdout",
     "output_type": "stream",
     "text": [
      "IPA Word:  'di̯a-ɾi̯o\n",
      "0 '\n",
      "1 d\n",
      "2 i\n",
      "3 ̯\n",
      "4 a\n",
      "5 -\n",
      "6 ɾ\n",
      "7 i\n",
      "8 ̯\n",
      "9 o\n"
     ]
    }
   ],
   "source": [
    "# let's grab one of the IPA words\n",
    "ipa_word = ipa_array[45][1]\n",
    "print(\"IPA Word: \", ipa_word)\n",
    "for i,e in enumerate(ipa_word):\n",
    "    print(i,e)"
   ]
  },
  {
   "cell_type": "markdown",
   "metadata": {},
   "source": [
    "## As we can see, the lengths are going to be different. Obviously, there is the addition of the syllable breaks (`-`) and the accent marks (`'`), but there is also the factor of the semi-vowel markings, which are being interpreted as new characters (` ̯`)"
   ]
  },
  {
   "cell_type": "code",
   "execution_count": 108,
   "metadata": {},
   "outputs": [
    {
     "name": "stdout",
     "output_type": "stream",
     "text": [
      "Spanish Word:  patrón\n",
      "0 p\n",
      "1 a\n",
      "2 t\n",
      "3 r\n",
      "4 ó\n",
      "5 n\n"
     ]
    }
   ],
   "source": [
    "# lets test one more, just to see what it might look like\n",
    "spanish_word2 = ipa_array[55][0]\n",
    "print(\"Spanish Word: \", spanish_word2)\n",
    "for i,e in enumerate(spanish_word2):\n",
    "    print(i, e)"
   ]
  },
  {
   "cell_type": "code",
   "execution_count": 109,
   "metadata": {},
   "outputs": [
    {
     "name": "stdout",
     "output_type": "stream",
     "text": [
      "IPA Word:  pa-'tɾon\n",
      "0 p\n",
      "1 a\n",
      "2 -\n",
      "3 '\n",
      "4 t\n",
      "5 ɾ\n",
      "6 o\n",
      "7 n\n"
     ]
    }
   ],
   "source": [
    "ipa_word2 = ipa_array[55][1]\n",
    "print(\"IPA Word: \", ipa_word2)\n",
    "for i,e in enumerate(ipa_word2):\n",
    "    print(i,e)"
   ]
  },
  {
   "cell_type": "markdown",
   "metadata": {},
   "source": [
    "# So it looks like the accented \"o\" (`ó`) is still read as a single character. This all is good information to know before moving forward"
   ]
  },
  {
   "cell_type": "code",
   "execution_count": 110,
   "metadata": {},
   "outputs": [
    {
     "data": {
      "image/png": "[encoded data removed]",
      "text/plain": [
       "<Figure size 640x480 with 2 Axes>"
      ]
     },
     "metadata": {},
     "output_type": "display_data"
    }
   ],
   "source": [
    "spanish_orth_len = [len(st) for st in ipa_array[:,0]]\n",
    "\n",
    "ipa_len = [len(st) for st in ipa_array[:,1]]\n",
    "    \n",
    "length_df = pd.DataFrame({'span_orth_len':spanish_orth_len, 'ipa_len':ipa_len})\n",
    "\n",
    "length_df.hist(bins = 30)\n",
    "plt.show()"
   ]
  },
  {
   "cell_type": "code",
   "execution_count": null,
   "metadata": {},
   "outputs": [],
   "source": []
  },
  {
   "cell_type": "code",
   "execution_count": 111,
   "metadata": {},
   "outputs": [],
   "source": [
    "spanish_lists = []\n",
    "ipa_lists = []\n",
    "\n",
    "for i in ipa_array[:]:\n",
    "    # iterate through characters in spanish\n",
    "    _span_str = i[0]\n",
    "    # create empty list\n",
    "    _span_list = []\n",
    "    # iterate through spanish characters\n",
    "    for x,e in enumerate(_span_str):\n",
    "        _span_list.append(e)\n",
    "      \n",
    "    # iterate through characters in ipa\n",
    "    _ipa_str = i[1]\n",
    "    _ipa_list = []\n",
    "    # iterate through ipa characters\n",
    "    for x,e in enumerate(_ipa_str):\n",
    "        _ipa_list.append(e)\n",
    "        \n",
    "    # create a new string where each word is a list\n",
    "    spanish_spaces = \" \".join(_span_list)\n",
    "    spanish_lists.append(spanish_spaces)\n",
    "    ipa_spaces = \" \".join(_ipa_list)\n",
    "    ipa_lists.append(ipa_spaces)\n",
    "    \n",
    "    \n",
    "        "
   ]
  },
  {
   "cell_type": "code",
   "execution_count": 112,
   "metadata": {},
   "outputs": [],
   "source": [
    "def merge(list1, list2):\n",
    "     \n",
    "    merged_list = [(list1[i], list2[i]) for i in range(0, len(list1))]\n",
    "    return merged_list"
   ]
  },
  {
   "cell_type": "code",
   "execution_count": 113,
   "metadata": {},
   "outputs": [],
   "source": [
    "ipa_list_tup = merge(spanish_lists, ipa_lists)\n",
    "ipa_array_clean = np.array(ipa_list_tup)"
   ]
  },
  {
   "cell_type": "code",
   "execution_count": 114,
   "metadata": {},
   "outputs": [
    {
     "data": {
      "text/plain": [
       "array([['h i c e', \"' i - s e\"],\n",
       "       ['c o m b i n a c i ó n', \"k o m - b i - n a - ' s i ̯ o n\"],\n",
       "       ['i n i c i o', \"i - ' n i - s i ̯ o\"],\n",
       "       ['e d u c a c i ó n', \"e - ð u - k a - ' s i ̯ o n\"],\n",
       "       ['h a s t a', \"' a s - t a\"],\n",
       "       ['o j o', \"' o - h o\"],\n",
       "       ['c a s i', \"' k a - s i\"],\n",
       "       ['u s a r', \"u - ' s a ɾ\"],\n",
       "       ['f u n c i o n a r', \"f u n - s i ̯ o - ' n a ɾ\"],\n",
       "       ['c a n t a r', \"k a n - ' t a ɾ\"],\n",
       "       ['a y u d a', \"a - ' j u - ð a\"],\n",
       "       ['h o m b r e', \"' o m - b ɾ e\"],\n",
       "       ['e s t á', \"e s - ' t a\"],\n",
       "       ['s a b e', \"' s a - β e\"],\n",
       "       ['o p o r t u n i d a d', \"o - p o ɾ - t u - n i - ' ð a ð\"],\n",
       "       ['t o q u e', \"' t o - k e\"],\n",
       "       ['é l', \"' e l\"],\n",
       "       ['s u', \"' s u\"],\n",
       "       ['h e r m a n a', \"e ɾ - ' m a - n a\"],\n",
       "       ['e s t a', \"' e s - t a\"],\n",
       "       ['t a z a', \"' t a - s a\"],\n",
       "       ['i m p o r t a n t e', \"i m - p o ɾ - ' t a n - t e\"],\n",
       "       ['q u é', \"' k e\"],\n",
       "       ['e l', \"' e l\"],\n",
       "       ['t a n t o', \"' t a n - t o\"],\n",
       "       ['s o n', \"' s o n\"],\n",
       "       ['m a s a', \"' m a - s a\"],\n",
       "       ['d i e z', \"' d i ̯ e s\"],\n",
       "       ['e s o', \"' e - s o\"],\n",
       "       ['é x i t o', \"' e k - s i - t o\"],\n",
       "       ['e x t r a', \"' e k s - t ɾ a\"],\n",
       "       ['m i e d o', \"' m i ̯ e - ð o\"],\n",
       "       ['v o y', \"' β o i ̯\"],\n",
       "       ['l e í', \"l e - ' i\"],\n",
       "       ['p o e m a', \"p o - ' e - m a\"],\n",
       "       ['s e a', \"' s e - a\"],\n",
       "       ['a é r e o', \"a - ' e - ɾ e - o\"],\n",
       "       ['d í a', \"' d i - a\"],\n",
       "       ['l e e r', \"l e - ' e ɾ\"],\n",
       "       ['t r a e', \"' t ɾ a - e\"],\n",
       "       ['l e y', \"' l e i ̯\"],\n",
       "       ['o í', \"o - ' i\"],\n",
       "       ['h o y', \"' o i ̯\"],\n",
       "       ['r e í', \"r e - ' i\"],\n",
       "       ['r e y', \"' r e i ̯\"],\n",
       "       ['d i a r i o', \"' d i ̯ a - ɾ i ̯ o\"],\n",
       "       ['S a ú l', \"s a - ' u l\"],\n",
       "       ['P a u l a', \"' p a u ̯ - l a\"],\n",
       "       ['o í d o', \"o - ' i - ð o\"],\n",
       "       ['o i g o', \"' o i ̯ - ɣ o\"],\n",
       "       ['m i', \"' m i\"],\n",
       "       ['t u', \"' t u\"],\n",
       "       ['L o l a', \"' l o - l a\"],\n",
       "       ['l e', \"' l e\"],\n",
       "       ['s o n r í e', \"s o n - ' ɾ i - e\"],\n",
       "       ['p a t r ó n', \"p a - ' t ɾ o n\"],\n",
       "       ['a l t o', 'a l - t o'],\n",
       "       ['y o', \"' ʝ o\"],\n",
       "       ['h u e r t a', \"' w e ɾ - t a\"],\n",
       "       ['h u é s p e d', \"' w e s - p e ð\"],\n",
       "       ['c a r a', 'k a - ɾ a'],\n",
       "       ['c a d a', 'k a - ð a'],\n",
       "       ['s i e s t a', \"' s i ̯ e s - t a\"],\n",
       "       ['c a r o', \"' k a - ɾ o\"],\n",
       "       ['c a r r o', \"' k a - r o\"],\n",
       "       ['t o r o', \"' t o - ɾ o\"],\n",
       "       ['e x i s t i r', \"e k - s i s - ' t i ɾ\"],\n",
       "       ['t e n g o', \"' t e ŋ - g o\"],\n",
       "       ['t e n e r', \"t e - ' n e ɾ\"],\n",
       "       ['l l a v e', \"' ʝ a - β e\"],\n",
       "       ['l i b r e', \"' l i - β ɾ e\"],\n",
       "       ['c a l l e', \"' k a - ʝ e\"]], dtype='<U31')"
      ]
     },
     "execution_count": 114,
     "metadata": {},
     "output_type": "execute_result"
    }
   ],
   "source": [
    "ipa_array_clean"
   ]
  },
  {
   "cell_type": "code",
   "execution_count": 125,
   "metadata": {},
   "outputs": [],
   "source": [
    "def tokenization(lines):\n",
    "    # explicitly add filters to assure hyphens and apostrophes are not removed\n",
    "    tokenizer = keras.preprocessing.text.Tokenizer(filters='!\"#$%&()*+,/:;<=>?@[\\\\]^_`{|}~\\t\\n')\n",
    "    tokenizer.fit_on_texts(lines)\n",
    "    return tokenizer"
   ]
  },
  {
   "cell_type": "code",
   "execution_count": 126,
   "metadata": {},
   "outputs": [],
   "source": [
    "span_orth_tokenizer = tokenization(ipa_array_clean[:, 0])\n",
    "span_orth_vocab_size = len(span_orth_tokenizer.word_index) + 1"
   ]
  },
  {
   "cell_type": "code",
   "execution_count": 127,
   "metadata": {},
   "outputs": [],
   "source": [
    "ipa_tokenizer = tokenization(ipa_array_clean[:, 1])\n",
    "ipa_vocab_size = len(ipa_tokenizer.word_index) + 1"
   ]
  },
  {
   "cell_type": "code",
   "execution_count": 128,
   "metadata": {},
   "outputs": [
    {
     "data": {
      "text/plain": [
       "{'a': 1,\n",
       " 'e': 2,\n",
       " 'o': 3,\n",
       " 'r': 4,\n",
       " 't': 5,\n",
       " 'i': 6,\n",
       " 's': 7,\n",
       " 'n': 8,\n",
       " 'l': 9,\n",
       " 'c': 10,\n",
       " 'u': 11,\n",
       " 'd': 12,\n",
       " 'm': 13,\n",
       " 'h': 14,\n",
       " 'y': 15,\n",
       " 'p': 16,\n",
       " 'í': 17,\n",
       " 'é': 18,\n",
       " 'b': 19,\n",
       " 'ó': 20,\n",
       " 'x': 21,\n",
       " 'q': 22,\n",
       " 'z': 23,\n",
       " 'v': 24,\n",
       " 'g': 25,\n",
       " 'j': 26,\n",
       " 'f': 27,\n",
       " 'á': 28,\n",
       " 'ú': 29}"
      ]
     },
     "execution_count": 128,
     "metadata": {},
     "output_type": "execute_result"
    }
   ],
   "source": [
    "span_orth_tokenizer.word_index"
   ]
  },
  {
   "cell_type": "code",
   "execution_count": 129,
   "metadata": {},
   "outputs": [
    {
     "data": {
      "text/plain": [
       "{'-': 1,\n",
       " \"'\": 2,\n",
       " 'a': 3,\n",
       " 'e': 4,\n",
       " 'o': 5,\n",
       " 'i': 6,\n",
       " 's': 7,\n",
       " 't': 8,\n",
       " 'ɾ': 9,\n",
       " 'n': 10,\n",
       " '̯': 11,\n",
       " 'k': 12,\n",
       " 'l': 13,\n",
       " 'u': 14,\n",
       " 'm': 15,\n",
       " 'ð': 16,\n",
       " 'p': 17,\n",
       " 'β': 18,\n",
       " 'd': 19,\n",
       " 'r': 20,\n",
       " 'ʝ': 21,\n",
       " 'b': 22,\n",
       " 'w': 23,\n",
       " 'h': 24,\n",
       " 'f': 25,\n",
       " 'j': 26,\n",
       " 'ɣ': 27,\n",
       " 'ŋ': 28,\n",
       " 'g': 29}"
      ]
     },
     "execution_count": 129,
     "metadata": {},
     "output_type": "execute_result"
    }
   ],
   "source": [
    "ipa_tokenizer.word_index"
   ]
  },
  {
   "cell_type": "code",
   "execution_count": null,
   "metadata": {},
   "outputs": [],
   "source": []
  },
  {
   "cell_type": "code",
   "execution_count": null,
   "metadata": {},
   "outputs": [],
   "source": []
  }
 ],
 "metadata": {
  "kernelspec": {
   "display_name": "Python 3 (ipykernel)",
   "language": "python",
   "name": "python3"
  },
  "language_info": {
   "codemirror_mode": {
    "name": "ipython",
    "version": 3
   },
   "file_extension": ".py",
   "mimetype": "text/x-python",
   "name": "python",
   "nbconvert_exporter": "python",
   "pygments_lexer": "ipython3",
   "version": "3.9.13"
  },
  "vscode": {
   "interpreter": {
    "hash": "094fe2711c494eb8fc3c7b741182af166b9f45fe91194cd803edd6afa02ef748"
   }
  }
 },
 "nbformat": 4,
 "nbformat_minor": 4
}
